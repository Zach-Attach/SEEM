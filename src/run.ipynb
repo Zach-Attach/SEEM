{
 "cells": [
  {
   "cell_type": "code",
   "execution_count": 2,
   "metadata": {},
   "outputs": [
    {
     "name": "stdout",
     "output_type": "stream",
     "text": [
      "764\n",
      "487\n",
      "613\n",
      "625\n",
      "736\n",
      "952\n",
      "887\n",
      "1187\n",
      "1202\n",
      "873\n",
      "Stored 'G_White' (DiGraph)\n",
      "Stored 'G_overlap_W7_W8' (DiGraph)\n",
      "Stored 'G_overlap_W7_White' (DiGraph)\n",
      "Stored 'G_overlap_W8_White' (DiGraph)\n",
      "Stored 'G_overlap_W7_W8_White' (DiGraph)\n",
      "Stored 'G_unique_W7' (DiGraph)\n",
      "Stored 'G_unique_W8' (DiGraph)\n",
      "Stored 'G_unique_White' (DiGraph)\n"
     ]
    },
    {
     "name": "stderr",
     "output_type": "stream",
     "text": [
      "UsageError: Unknown variable 'neurites'\n",
      "UsageError: Unknown variable 'neurites'\n"
     ]
    }
   ],
   "source": [
    "%run src/create/preprocess/convert.ipynb\n",
    "    #* convert data files into graphs\n",
    "%run src/create/models/SEEM_v1/penpals.ipynb\n",
    "    #* find penpals for each neuron\n",
    "%run src/create/preprocess/edgeDistance.ipynb\n",
    "    #* find distance of each edge within a graph\n",
    "%run src/create/models/SEEM_v1/SEEM.ipynb\n",
    "    #* run SEEM on each graph\n",
    "# %run src/analysis/overlap.ipynb\n",
    "    #* find overlaps between each pair of graphs"
   ]
  },
  {
   "cell_type": "code",
   "execution_count": null,
   "metadata": {},
   "outputs": [],
   "source": []
  }
 ],
 "metadata": {
  "kernelspec": {
   "display_name": "Python 3",
   "language": "python",
   "name": "python3"
  },
  "language_info": {
   "codemirror_mode": {
    "name": "ipython",
    "version": 3
   },
   "file_extension": ".py",
   "mimetype": "text/x-python",
   "name": "python",
   "nbconvert_exporter": "python",
   "pygments_lexer": "ipython3",
   "version": "3.11.1"
  },
  "orig_nbformat": 4,
  "vscode": {
   "interpreter": {
    "hash": "aee8b7b246df8f9039afb4144a1f6fd8d2ca17a180786b69acc140d282b71a49"
   }
  }
 },
 "nbformat": 4,
 "nbformat_minor": 2
}
