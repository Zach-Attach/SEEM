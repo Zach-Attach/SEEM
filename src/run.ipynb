{
 "cells": [
  {
   "cell_type": "code",
   "execution_count": 3,
   "metadata": {},
   "outputs": [
    {
     "name": "stdout",
     "output_type": "stream",
     "text": [
      "764\n",
      "487\n",
      "613\n",
      "625\n",
      "736\n",
      "952\n",
      "887\n",
      "1187\n",
      "1202\n",
      "873\n",
      "15.71 -4.92\n",
      "9.76 -10.84\n",
      "Stored 'neurites' (dict)\n",
      "Number of Edges in Fully Connected SEEM Graph:  5172\n",
      "Stored 'G_SEEM_FC' (DiGraph)\n",
      "Stored 'SEEM_Kaiser' (list)\n",
      "Stored 'SEEM_White' (list)\n",
      "Stored 'SEEM_Array_Witvliet' (list)\n",
      "Stored 'neurites_random' (dict)\n",
      "Number of Edges in Fully Connected SEEM Graph:  3446\n",
      "Stored 'G_SEEM_FC_Random' (DiGraph)\n",
      "Stored 'SEEM_Kaiser_Rand' (list)\n",
      "Stored 'SEEM_White_Rand' (list)\n",
      "Stored 'SEEM_Array_Witvliet_Rand' (list)\n"
     ]
    }
   ],
   "source": [
    "%run src/create/preprocess/convert.ipynb\n",
    "    #* convert data files into graphs\n",
    "%run src/create/models/SEEM_v1/penpals.ipynb\n",
    "    #* find penpals for each neuron\n",
    "%run src/create/preprocess/edgeDistance.ipynb\n",
    "    #* find distance of each edge within a graph\n",
    "%run src/create/models/SEEM_v1/SEEM.ipynb\n",
    "    #* run SEEM on each graph\n",
    "# %run src/analysis/overlap.ipynb\n",
    "    #* find overlaps between each pair of graphs\n",
    "# %run src/analysis/stats.ipynb\n",
    "    #* find statistics for each graph\n",
    "# %run src/analysis/display.ipynb\n",
    "    #* display graphs"
   ]
  },
  {
   "cell_type": "code",
   "execution_count": null,
   "metadata": {},
   "outputs": [],
   "source": []
  }
 ],
 "metadata": {
  "kernelspec": {
   "display_name": "Python 3",
   "language": "python",
   "name": "python3"
  },
  "language_info": {
   "codemirror_mode": {
    "name": "ipython",
    "version": 3
   },
   "file_extension": ".py",
   "mimetype": "text/x-python",
   "name": "python",
   "nbconvert_exporter": "python",
   "pygments_lexer": "ipython3",
   "version": "3.11.2"
  },
  "orig_nbformat": 4,
  "vscode": {
   "interpreter": {
    "hash": "aee8b7b246df8f9039afb4144a1f6fd8d2ca17a180786b69acc140d282b71a49"
   }
  }
 },
 "nbformat": 4,
 "nbformat_minor": 2
}
