{
 "cells": [
  {
   "cell_type": "markdown",
   "metadata": {},
   "source": [
    "imports"
   ]
  },
  {
   "cell_type": "code",
   "execution_count": 2,
   "metadata": {},
   "outputs": [],
   "source": [
    "import networkx as nx"
   ]
  },
  {
   "cell_type": "markdown",
   "metadata": {},
   "source": [
    "import graphs"
   ]
  },
  {
   "cell_type": "code",
   "execution_count": 3,
   "metadata": {},
   "outputs": [],
   "source": [
    "from lib.graphs import G_Witvliet, G_White\n",
    "G_W1 = G_Witvliet[0]\n",
    "G_W7 = G_Witvliet[6]\n",
    "G_W8 = G_Witvliet[7]\n",
    "\n",
    "%store -r G_SEEM_FC\n",
    "%store -r RDDAM_Graphs_W1 RDDAM_Graphs_W7 RDDAM_Graphs_W8 RDDAM_Graphs_White rand_Graphs_W1 rand_Graphs_W7 rand_Graphs_W8 rand_Graphs_White SEEM_Array_Witvliet SEEM_White SEEM_Array_Witvliet_Rand SEEM_White_Rand"
   ]
  },
  {
   "cell_type": "markdown",
   "metadata": {},
   "source": [
    "### Functions"
   ]
  },
  {
   "cell_type": "code",
   "execution_count": 4,
   "metadata": {},
   "outputs": [],
   "source": [
    "def createOverlapGraph(G, G_compare=G_SEEM_FC):\n",
    "  G_overlap = nx.create_empty_copy(G)\n",
    "  # for e in G_compare.edges():\n",
    "  #   if G.has_edge(e[0],e[1]):\n",
    "  #     G_overlap.add_edge(e)\n",
    "  G_overlap.add_edges_from(e for e in G_compare.edges(data=True) if (e[0],e[1]) in G.edges())\n",
    "  return G_overlap"
   ]
  },
  {
   "cell_type": "code",
   "execution_count": 5,
   "metadata": {},
   "outputs": [],
   "source": [
    "def getOverlapDist(Gs, cennG):\n",
    "    return [createOverlapGraph(cennG, g).number_of_edges() for g in Gs]"
   ]
  },
  {
   "cell_type": "code",
   "execution_count": 6,
   "metadata": {},
   "outputs": [],
   "source": [
    "overlapDists1 = {\n",
    "  'SEEM': getOverlapDist(SEEM_Array_Witvliet[0],G_W1),\n",
    "  'RDDAM': getOverlapDist(RDDAM_Graphs_W1,G_W1),\n",
    "  'ERN': getOverlapDist(rand_Graphs_W1,G_W1),\n",
    "  'REEM': getOverlapDist(SEEM_Array_Witvliet_Rand[0],G_W1)\n",
    " }\n",
    "\n",
    "overlapDists5 = {\n",
    "  'SEEM': getOverlapDist(SEEM_Array_Witvliet[6],G_W7) + getOverlapDist(SEEM_Array_Witvliet[7],G_W8) + getOverlapDist(SEEM_White,G_White),\n",
    "  'RDDAM': getOverlapDist(RDDAM_Graphs_W7,G_W7) + getOverlapDist(RDDAM_Graphs_W8,G_W8) + getOverlapDist(RDDAM_Graphs_White,G_White),\n",
    "  'ERN': getOverlapDist(rand_Graphs_W7,G_W7) + getOverlapDist(rand_Graphs_W8,G_W8) + getOverlapDist(rand_Graphs_White,G_White),\n",
    "  'REEM': getOverlapDist(SEEM_Array_Witvliet_Rand[6],G_W7) + getOverlapDist(SEEM_Array_Witvliet_Rand[7],G_W8) + getOverlapDist(SEEM_White_Rand,G_White)\n",
    " }"
   ]
  },
  {
   "cell_type": "code",
   "execution_count": 30,
   "metadata": {},
   "outputs": [
    {
     "data": {
      "image/png": "[encoded data removed]",
      "text/plain": [
       "<Figure size 331.25x200 with 4 Axes>"
      ]
     },
     "metadata": {},
     "output_type": "display_data"
    },
    {
     "data": {
      "text/plain": [
       "<Figure size 640x480 with 0 Axes>"
      ]
     },
     "metadata": {},
     "output_type": "display_data"
    }
   ],
   "source": [
    "from lib.style import color\n",
    "import matplotlib.pyplot as plt\n",
    "import numpy as np\n",
    "labels = ['SEEM', 'RDDAM', 'ERN', 'REEM']\n",
    "\n",
    "def set_axis_style(ax, labels):\n",
    "    ax.yaxis.set_tick_params(direction='out')\n",
    "    ax.yaxis.set_ticks_position('left')\n",
    "    ax.set_yticks(np.arange(1, len(labels) + 1), labels=labels)\n",
    "\n",
    "def violinPlot():\n",
    "\n",
    "    plt.rcParams.update({'font.size': 9})\n",
    "\n",
    "    figSize = (3.3125, 2) #if ticks else (1.25, 4)\n",
    "\n",
    "    fig, axes = plt.subplots(nrows=2, ncols=2, figsize=figSize, sharex=False, sharey=False, layout=\"constrained\")\n",
    "\n",
    "    fig.get_layout_engine().set(w_pad=0, h_pad=0.01, hspace=0, wspace=0)\n",
    "\n",
    "\n",
    "\n",
    "    vplot0 = axes[0][0].violinplot(overlapDists1.values(), vert=False, widths=1)\n",
    "    # vplot0 = axes[0][1].violinplot(overlapDists1.values(), vert=False, widths=1)\n",
    "    vplot1 = axes[1][0].violinplot(overlapDists5.values(), vert=False, widths=1)\n",
    "    # vplot1 = axes[1][1].violinplot(overlapDists5.values(), vert=False, widths=1)\n",
    "    for body0, body1, label in zip(vplot0['bodies'], vplot1['bodies'], labels):\n",
    "        body0.set_facecolor(color[label])\n",
    "        body1.set_facecolor(color[label])\n",
    "\n",
    "    axes[0][0].set_xlim(0, 50)\n",
    "    axes[1][0].set_xlim(0, 400)\n",
    "    axes[0][1].set_xlim(450, 500)\n",
    "    axes[1][1].set_xlim(850, 1250)\n",
    "\n",
    "    axes[0][0].spines['right'].set_visible(False)\n",
    "    axes[0][1].spines['left'].set_visible(False)\n",
    "    axes[1][0].spines['right'].set_visible(False)\n",
    "    axes[1][1].spines['left'].set_visible(False)\n",
    "\n",
    "    axes[0][1].axvline(x = G_W1.number_of_edges(), color = 'r', linestyle = '-', linewidth=1)\n",
    "    axes[1][1].axvline(x = G_W7.number_of_edges(), color = 'r', linestyle = '-', linewidth=1)\n",
    "    axes[1][1].axvline(x = G_W8.number_of_edges(), color = 'r', linestyle = '-', linewidth=1)\n",
    "    axes[1][1].axvline(x = G_White.number_of_edges(), color = 'r', linestyle = '-', linewidth=1)\n",
    "\n",
    "    set_axis_style(axes[0][0], labels)\n",
    "    set_axis_style(axes[1][0], labels)\n",
    "    set_axis_style(axes[0][1], [])\n",
    "    set_axis_style(axes[1][1], [])\n",
    "    \n",
    "    axes[0][0].set_ylabel('L1', fontsize=9)\n",
    "    axes[1][0].set_ylabel('Adult', fontsize=9)\n",
    "\n",
    "    d = .03  # how big to make the diagonal lines in axes coordinates\n",
    "    # arguments to pass to plot, just so we don't keep repeating them\n",
    "    kwargs = dict(transform=axes[0][0].transAxes, color='k', clip_on=False)\n",
    "    axes[0][0].plot((1-d, 1+d), (1-d, 1+d), **kwargs)        # top-left diagonal\n",
    "    axes[0][0].plot((1 - d, 1 + d), (-d, +d), **kwargs)  # top-right diagonal\n",
    "\n",
    "    kwargs.update(transform=axes[0][1].transAxes)  # switch to the bottom axes\n",
    "    axes[0][1].plot((-d, +d), (1 - d, 1 + d), **kwargs)  # bottom-left diagonal\n",
    "    axes[0][1].plot((-d, d), ( -d,  +d), **kwargs)  # bottom-right diagonal\n",
    "\n",
    "        # arguments to pass to plot, just so we don't keep repeating them\n",
    "    kwargs = dict(transform=axes[1][0].transAxes, color='k', clip_on=False)\n",
    "    axes[1][0].plot((1-d, 1+d), (1-d, 1+d), **kwargs)        # top-left diagonal\n",
    "    axes[1][0].plot((1 - d, 1 + d), (-d, +d), **kwargs)  # top-right diagonal\n",
    "\n",
    "    kwargs.update(transform=axes[1][1].transAxes)  # switch to the bottom axes\n",
    "    axes[1][1].plot((-d, +d), (1 - d, 1 + d), **kwargs)  # bottom-left diagonal\n",
    "    axes[1][1].plot((-d, d), ( -d,  +d), **kwargs)  # bottom-right diagonal\n",
    "\n",
    "\n",
    "    plt.savefig(f'data/images/overlaps.pgf', format='pgf', dpi=300)\n",
    "\n",
    "    plt.show()\n",
    "    plt.clf()\n",
    "\n",
    "violinPlot()"
   ]
  },
  {
   "cell_type": "code",
   "execution_count": 9,
   "metadata": {},
   "outputs": [
    {
     "name": "stdout",
     "output_type": "stream",
     "text": [
      "0.2915811088295688\n",
      "0.3218197135636057\n",
      "0.33277870216306155\n",
      "0.33104238258877433\n",
      "\n",
      "\n",
      "24\n",
      "155\n",
      "142\n",
      "85\n"
     ]
    }
   ],
   "source": [
    "print((createOverlapGraph(G_W1)).number_of_edges()/G_W1.number_of_edges())\n",
    "print((createOverlapGraph(G_W7)).number_of_edges()/G_W7.number_of_edges())\n",
    "print((createOverlapGraph(G_W8)).number_of_edges()/G_W8.number_of_edges())\n",
    "print((createOverlapGraph(G_White)).number_of_edges()/G_White.number_of_edges())\n",
    "print('\\n')\n",
    "print((createOverlapGraph(G_W1, RDDAM_Graphs_W1[0])).number_of_edges())\n",
    "print((createOverlapGraph(G_W7, RDDAM_Graphs_W7[0])).number_of_edges())\n",
    "print((createOverlapGraph(G_W8, RDDAM_Graphs_W8[0])).number_of_edges())\n",
    "print((createOverlapGraph(G_White, RDDAM_Graphs_White[0])).number_of_edges())\n"
   ]
  },
  {
   "cell_type": "code",
   "execution_count": 9,
   "metadata": {},
   "outputs": [],
   "source": [
    "def createWrongGraph(G, H=G_SEEM_FC):\n",
    "  # G_wrong = nx.difference(G, G_compare)\n",
    "  # return G_wrong\n",
    "  G_missing = G.copy()\n",
    "  G_missing.remove_edges_from(e for e in G.edges(data='distance') if e in H)\n",
    "  return G_missing"
   ]
  },
  {
   "cell_type": "code",
   "execution_count": 10,
   "metadata": {},
   "outputs": [],
   "source": [
    "def createMissingGraph(G, H=G_SEEM_FC):\n",
    "  # G_missing = nx.difference(G_compare, G)\n",
    "  G_missing = G.copy()\n",
    "  G_missing.remove_edges_from(e for e in H.edges(data='distance') if e in G)\n",
    "  return G_missing"
   ]
  },
  {
   "cell_type": "code",
   "execution_count": 11,
   "metadata": {},
   "outputs": [],
   "source": [
    "def combineGraphs(G, H):\n",
    "  U=nx.Graph()\n",
    "  U.add_edges_from(G.edges(data=True))\n",
    "  U.add_nodes_from(G.nodes(data=True))\n",
    "  U.add_edges_from(H.edges(data=True))\n",
    "  U.add_nodes_from(H.nodes(data=True))\n",
    "  return U"
   ]
  },
  {
   "cell_type": "markdown",
   "metadata": {},
   "source": [
    "### Overlaps between Adult Connectomes"
   ]
  },
  {
   "cell_type": "code",
   "execution_count": 22,
   "metadata": {},
   "outputs": [
    {
     "name": "stdout",
     "output_type": "stream",
     "text": [
      "Stored 'G_overlap_W7_W8' (DiGraph)\n",
      "Stored 'G_overlap_W7_White' (DiGraph)\n",
      "Stored 'G_overlap_W8_White' (DiGraph)\n",
      "Stored 'G_overlap_W7_W8_White' (DiGraph)\n",
      "Stored 'G_unique_W7' (DiGraph)\n",
      "Stored 'G_unique_W8' (DiGraph)\n",
      "Stored 'G_unique_White' (DiGraph)\n",
      "Stored 'G_1of3' (Graph)\n",
      "Stored 'G_2of3' (Graph)\n"
     ]
    }
   ],
   "source": [
    "G_overlap_W7_W8_White = createOverlapGraph(createOverlapGraph(G_W7, G_W8), G_White)\n",
    "\n",
    "G_overlap_W7_W8 = createWrongGraph(createOverlapGraph(G_W7, G_W8), G_overlap_W7_W8_White)\n",
    "G_overlap_W7_White = createWrongGraph(createOverlapGraph(G_W7, G_White), G_overlap_W7_W8_White)\n",
    "G_overlap_W8_White = createWrongGraph(createOverlapGraph(G_W8, G_White), G_overlap_W7_W8_White)\n",
    "\n",
    "G_unique_W7 = createWrongGraph(createWrongGraph(G_W7, G_W8),G_White)\n",
    "G_unique_W8 = createWrongGraph(createWrongGraph(G_W8, G_W7),G_White)\n",
    "G_unique_White = createWrongGraph(createWrongGraph(G_White, G_W7),G_W8)\n",
    "\n",
    "G_1of3 = combineGraphs(combineGraphs(G_unique_W7, G_unique_W8), G_unique_White)\n",
    "G_2of3 = combineGraphs(combineGraphs(G_overlap_W7_W8, G_overlap_W7_White), G_overlap_W8_White)\n",
    "\n",
    "%store G_overlap_W7_W8\n",
    "%store G_overlap_W7_White\n",
    "%store G_overlap_W8_White\n",
    "%store G_overlap_W7_W8_White\n",
    "%store G_unique_W7\n",
    "%store G_unique_W8\n",
    "%store G_unique_White\n",
    "%store G_1of3\n",
    "%store G_2of3\n",
    "\n",
    "\n",
    "dataDir_Overlaps = 'data/overlaps'\n",
    "nx.write_gexf(G_overlap_W7_W8, f'{dataDir_Overlaps}/overlap_W7_W8.gexf')\n",
    "nx.write_gexf(G_overlap_W7_White, f'{dataDir_Overlaps}/overlap_W7_White.gexf')\n",
    "nx.write_gexf(G_overlap_W8_White, f'{dataDir_Overlaps}/overlap_W8_White.gexf')\n",
    "nx.write_gexf(G_overlap_W7_W8_White, f'{dataDir_Overlaps}/overlap_W7_W8_White.gexf')\n",
    "nx.write_gexf(G_unique_W7, f'{dataDir_Overlaps}/unique_W7.gexf')\n",
    "nx.write_gexf(G_unique_W8, f'{dataDir_Overlaps}/unique_W8.gexf')\n",
    "nx.write_gexf(G_unique_White, f'{dataDir_Overlaps}/unique_White.gexf')\n"
   ]
  },
  {
   "cell_type": "code",
   "execution_count": 15,
   "metadata": {},
   "outputs": [
    {
     "name": "stdout",
     "output_type": "stream",
     "text": [
      "Overlap:  338 / 487\n",
      "Overlap:  427 / 487\n",
      "Overlap:  436 / 487\n"
     ]
    }
   ],
   "source": [
    "# G_overlap_W7_W8_White = createOverlapGraph(createOverlapGraph(G_W7, G_W8), G_White)\n",
    "\n",
    "# G_overlap_W7_W8 = createWrongGraph(createOverlapGraph(G_W7, G_W8), G_overlap_W7_W8_White)\n",
    "# G_overlap_W7_White = createWrongGraph(createOverlapGraph(G_W7, G_White), G_overlap_W7_W8_White)\n",
    "# G_overlap_W8_White = createWrongGraph(createOverlapGraph(G_W8, G_White), G_overlap_W7_W8_White)\n",
    "\n",
    "# G_unique_W7 = createWrongGraph(createWrongGraph(G_W7, G_W8),G_White)\n",
    "# G_unique_W8 = createWrongGraph(createWrongGraph(G_W8, G_W7),G_White)\n",
    "# G_unique_White = createWrongGraph(createWrongGraph(G_White, G_W7),G_W8)\n",
    "\n",
    "# G_1of3 = combineGraphs(combineGraphs(G_unique_W7, G_unique_W8), G_unique_White)\n",
    "# G_2of3 = combineGraphs(combineGraphs(G_overlap_W7_W8, G_overlap_W7_White), G_overlap_W8_White)\n",
    "import networkx as nx\n",
    "\n",
    "from lib.graphs import G_Witvliet, G_White, getCleanGraph\n",
    "G_W1 = G_Witvliet[0]\n",
    "G_W7 = G_Witvliet[6]\n",
    "G_W8 = G_Witvliet[7]\n",
    "\n",
    "G_clean = getCleanGraph()\n",
    "\n",
    "%store -r SEEM_Array_Witvliet\n",
    "%store -r RDDAM_Graphs_W1\n",
    "%store -r rand_Graphs_W1\n",
    "\n",
    "\n",
    "\n",
    "for arr_G in [SEEM_Array_Witvliet[0],RDDAM_Graphs_W1,rand_Graphs_W1]:\n",
    "  G_overlap = nx.create_empty_copy(G_W1)\n",
    "  for G in arr_G:\n",
    "    G_overlap = combineGraphs(createOverlapGraph(G_W1, G), G_overlap)\n",
    "  print('Overlap: ',G_overlap.number_of_edges(),'/',G_W1.number_of_edges())\n",
    "\n",
    "# distSeqs = {\n",
    "#     'CENN': avgDistDist([G_W7, G_W8, G_White],title='CENN', presentation=False, subplot=True),\n",
    "#     'SEEM': avgDistDist(SEEM_Array_Witvliet[6] + SEEM_Array_Witvliet[7] + SEEM_White,title='SEEM', presentation=False, subplot=True),\n",
    "#     'RDDAM': avgDistDist(RDDAM_Graphs_W7 + RDDAM_Graphs_W8 + RDDAM_Graphs_White,title='RDDAM', presentation=False, subplot=True),\n",
    "#     'Erdos-Renyi': avgDistDist(rand_Graphs_W7 + rand_Graphs_W8 + rand_Graphs_White,title='Erdos-Renyi', presentation=False, subplot=True)\n",
    "# }\n",
    "\n",
    "# %store G_overlap_W7_W8\n",
    "# %store G_overlap_W7_White\n",
    "# %store G_overlap_W8_White\n",
    "# %store G_overlap_W7_W8_White\n",
    "# %store G_unique_W7\n",
    "# %store G_unique_W8\n",
    "# %store G_unique_White\n",
    "# %store G_1of3\n",
    "# %store G_2of3\n",
    "\n",
    "\n",
    "# dataDir_Overlaps = 'data/overlaps'\n",
    "# nx.write_gexf(G_overlap_W7_W8, f'{dataDir_Overlaps}/overlap_W7_W8.gexf')\n",
    "# nx.write_gexf(G_overlap_W7_White, f'{dataDir_Overlaps}/overlap_W7_White.gexf')\n",
    "# nx.write_gexf(G_overlap_W8_White, f'{dataDir_Overlaps}/overlap_W8_White.gexf')\n",
    "# nx.write_gexf(G_overlap_W7_W8_White, f'{dataDir_Overlaps}/overlap_W7_W8_White.gexf')\n",
    "# nx.write_gexf(G_unique_W7, f'{dataDir_Overlaps}/unique_W7.gexf')\n",
    "# nx.write_gexf(G_unique_W8, f'{dataDir_Overlaps}/unique_W8.gexf')\n",
    "# nx.write_gexf(G_unique_White, f'{dataDir_Overlaps}/unique_White.gexf')"
   ]
  },
  {
   "cell_type": "code",
   "execution_count": 13,
   "metadata": {},
   "outputs": [
    {
     "name": "stdout",
     "output_type": "stream",
     "text": [
      "Unique Edges (W7):\t\t 263\n",
      "Unique Edges (W8):\t\t 281\n",
      "Unique Edges (White):\t\t 184\n",
      "Overlapping Edges (W7, W8):\t 298\n",
      "Overlapping Edges (W&, White):\t 66\n",
      "Overlapping Edges (W8, White):\t 63\n",
      "Overlapping Edges (All):\t 560\n"
     ]
    }
   ],
   "source": [
    "print('Unique Edges (W7):\\t\\t', G_unique_W7.number_of_edges())\n",
    "print('Unique Edges (W8):\\t\\t', G_unique_W8.number_of_edges())\n",
    "print('Unique Edges (White):\\t\\t', G_unique_White.number_of_edges())\n",
    "\n",
    "print('Overlapping Edges (W7, W8):\\t', G_overlap_W7_W8.number_of_edges())\n",
    "print('Overlapping Edges (W&, White):\\t', G_overlap_W7_White.number_of_edges())\n",
    "print('Overlapping Edges (W8, White):\\t', G_overlap_W8_White.number_of_edges())\n",
    "\n",
    "print('Overlapping Edges (All):\\t', G_overlap_W7_W8_White.number_of_edges())\n",
    "\n"
   ]
  },
  {
   "cell_type": "markdown",
   "metadata": {},
   "source": [
    "### How Predictive is SEEM Connectivity Compared with all 8 Witvliet Connectomes?"
   ]
  },
  {
   "cell_type": "code",
   "execution_count": 14,
   "metadata": {},
   "outputs": [],
   "source": [
    "overlaps_array = [] # found in both SEEM and CE\n",
    "wrong_array = [] # found in SEEM but not in CE\n",
    "missing_array = [] # found in CE but not in SEEM\n",
    "\n",
    "for i in range(1,9):\n",
    "  dataDir_W = f'data/Witvliet/d{i}/original'\n",
    "  G = nx.read_gexf(f'{dataDir_W}/xyz_d.gexf')\n",
    "  overlaps_array.append(createOverlapGraph(G)) \n",
    "  wrong_array.append(createWrongGraph(G))\n",
    "  missing_array.append(createMissingGraph(G))\n"
   ]
  },
  {
   "cell_type": "code",
   "execution_count": 15,
   "metadata": {},
   "outputs": [
    {
     "name": "stdout",
     "output_type": "stream",
     "text": [
      "0/8 overlap:  6413\n",
      "1/8 overlap:  315\n",
      "2/8 overlap:  149\n",
      "3/8 overlap:  101\n",
      "4/8 overlap:  82\n",
      "5/8 overlap:  73\n",
      "6/8 overlap:  57\n",
      "7/8 overlap:  56\n",
      "8/8 overlap:  130\n"
     ]
    }
   ],
   "source": [
    "correct = [0,0,0,0,0,0,0,0,0]\n",
    "\n",
    "for edge in G_SEEM_FC.edges():\n",
    "  i = 0\n",
    "  for g in overlaps_array:\n",
    "    if g.has_edge(*edge):\n",
    "      i += 1\n",
    "  correct[i] += 1\n",
    "\n",
    "for i in range(0,9):\n",
    "  print(f'{i}/8 overlap: ', correct[i])"
   ]
  },
  {
   "cell_type": "markdown",
   "metadata": {},
   "source": [
    "Finding the # of Edges in each SEEM Connectome"
   ]
  },
  {
   "cell_type": "code",
   "execution_count": 16,
   "metadata": {},
   "outputs": [
    {
     "name": "stdout",
     "output_type": "stream",
     "text": [
      "# of Edges found in each SEEM Connectome\n",
      "Connectome #1: 487\n",
      "Connectome #2: 613\n",
      "Connectome #3: 625\n",
      "Connectome #4: 736\n",
      "Connectome #5: 952\n",
      "Connectome #6: 887\n",
      "Connectome #7: 1187\n",
      "Connectome #8: 1202\n"
     ]
    }
   ],
   "source": [
    "graphList = []\n",
    "\n",
    "for i in range(1,9):\n",
    "  dataDir_W = f'data/witvliet/d{i}/original'\n",
    "  G = nx.read_gexf(f'{dataDir_W}/xyz_d.gexf')\n",
    "  graphList.append(G)\n",
    "\n",
    "print(\"# of Edges found in each SEEM Connectome\")\n",
    "for i in range(0,8):\n",
    "  print(f'Connectome #{i+1}:',graphList[i].number_of_edges())"
   ]
  },
  {
   "cell_type": "markdown",
   "metadata": {},
   "source": [
    "Compute the overlap between the SEEM connectome and the 8 Witvliet connectomes.\n",
    "- 1/8 overlap -> connection found in one connectome and SEEM\n",
    "- 8/8 overlap -> connection found in all 8 connectomes and SEEM"
   ]
  },
  {
   "cell_type": "code",
   "execution_count": 17,
   "metadata": {},
   "outputs": [
    {
     "name": "stdout",
     "output_type": "stream",
     "text": [
      "0/8 overlap:  0\n",
      "1/8 overlap:  670\n",
      "2/8 overlap:  295\n",
      "3/8 overlap:  188\n",
      "4/8 overlap:  130\n",
      "5/8 overlap:  118\n",
      "6/8 overlap:  111\n",
      "7/8 overlap:  111\n",
      "8/8 overlap:  289\n"
     ]
    }
   ],
   "source": [
    "common_graph = nx.create_empty_copy(G_SEEM_FC)\n",
    "for i in range(8):\n",
    "  G = graphList[i]\n",
    "  for node in G.nodes():\n",
    "    if not G_SEEM_FC.has_node(node):\n",
    "      G.remove_node(node)\n",
    "  common_graph.add_edges_from(G.edges())\n",
    "\n",
    "common_edges = [0,0,0,0,0,0,0,0,0]\n",
    "\n",
    "for edge in common_graph.edges():\n",
    "  count = 0\n",
    "  for i in range(8):\n",
    "    G = graphList[i]\n",
    "    if G.has_edge(*edge):\n",
    "      count += 1\n",
    "  common_edges[count] += 1\n",
    "\n",
    "for i in range(9):\n",
    "  print(f'{i}/8 overlap: ', common_edges[i])"
   ]
  },
  {
   "cell_type": "code",
   "execution_count": 18,
   "metadata": {},
   "outputs": [
    {
     "name": "stdout",
     "output_type": "stream",
     "text": [
      "1/8 overlap:  0.4701492537313433\n",
      "2/8 overlap:  0.5050847457627119\n",
      "3/8 overlap:  0.5372340425531915\n",
      "4/8 overlap:  0.6307692307692307\n",
      "5/8 overlap:  0.6186440677966102\n",
      "6/8 overlap:  0.5135135135135135\n",
      "7/8 overlap:  0.5045045045045045\n",
      "8/8 overlap:  0.44982698961937717\n",
      "Stored 'G_overlap_W1' (DiGraph)\n"
     ]
    }
   ],
   "source": [
    "for i in range(1,9):\n",
    "  print(f'{i}/8 overlap: ', correct[i]/common_edges[i])\n",
    "G_overlap_W1 = nx.create_empty_copy(G)\n",
    "G_overlap_W1.add_edges_from(n for n in G_SEEM_FC.edges() if n in G_W1.edges())\n",
    "\n",
    "nx.write_gexf(G_overlap_W1, f'data/overlaps/W131_Overlap.gexf')\n",
    "\n",
    "%store G_overlap_W1"
   ]
  },
  {
   "cell_type": "markdown",
   "metadata": {},
   "source": [
    "#### Create Unique Graphs between SEEM and Witvliet #1"
   ]
  },
  {
   "cell_type": "code",
   "execution_count": 19,
   "metadata": {},
   "outputs": [
    {
     "name": "stdout",
     "output_type": "stream",
     "text": [
      "Stored 'G_uniqueOG_W1' (DiGraph)\n"
     ]
    }
   ],
   "source": [
    "G_uniqueOG_W1 = nx.difference(G_W1, G_SEEM_FC)\n",
    "\n",
    "nx.write_gexf(G_uniqueOG_W1, 'data/witvliet/d1/compiled/Comparison/W131_Unique_OG_W1.gexf')\n",
    "\n",
    "%store G_uniqueOG_W1"
   ]
  },
  {
   "cell_type": "code",
   "execution_count": 20,
   "metadata": {},
   "outputs": [
    {
     "name": "stdout",
     "output_type": "stream",
     "text": [
      "Stored 'G_uniqueSEEM_W1' (DiGraph)\n"
     ]
    }
   ],
   "source": [
    "G_uniqueSEEM_W1 = nx.difference(G_SEEM_FC, G_W1)\n",
    "\n",
    "nx.write_gexf(G_uniqueSEEM_W1, 'data/witvliet/d1/compiled/Comparison/W131_Unique_SEEM_W1.gexf')\n",
    "\n",
    "%store G_uniqueSEEM_W1"
   ]
  },
  {
   "cell_type": "markdown",
   "metadata": {},
   "source": [
    "#### Create Overlap Graph between RDDAM and Witvliet #1"
   ]
  },
  {
   "cell_type": "code",
   "execution_count": 21,
   "metadata": {},
   "outputs": [
    {
     "name": "stdout",
     "output_type": "stream",
     "text": [
      "15978\n",
      "Stored 'G_overlap_W1_rddam' (DiGraph)\n"
     ]
    }
   ],
   "source": [
    "G_rddam_fc = nx.DiGraph()\n",
    "\n",
    "for g in RDDAM_Graphs_W1:\n",
    "  G_rddam_fc.add_edges_from(g.edges())\n",
    "\n",
    "print(G_rddam_fc.number_of_edges())\n",
    "\n",
    "G_overlap_W1_rddam = nx.create_empty_copy(G)\n",
    "G_overlap_W1_rddam.add_edges_from(n for n in G_rddam_fc.edges() if n in G_W1.edges())\n",
    "\n",
    "nx.write_gexf(G_overlap_W1_rddam, f'data/witvliet/d1/compiled/Comparison/W131_RDDAM_Overlap_W1.gexf')\n",
    "\n",
    "%store G_overlap_W1_rddam"
   ]
  },
  {
   "cell_type": "markdown",
   "metadata": {},
   "source": [
    "#### Calculate the Penpals that are empirically found in C. Elegans"
   ]
  },
  {
   "cell_type": "code",
   "execution_count": 22,
   "metadata": {},
   "outputs": [
    {
     "name": "stdout",
     "output_type": "stream",
     "text": [
      "Stored 'overlapPP' (list)\n",
      "Stored 'wrongPP' (list)\n"
     ]
    }
   ],
   "source": [
    "overlapPP = []\n",
    "wrongPP = []\n",
    "\n",
    "for i in range(1,9):\n",
    "  dataDir= f'data/Witvliet/d{i}'\n",
    "  G_PP = nx.read_gexf(f'{dataDir}/compiled/penpalSubgraph.gexf')\n",
    "  G_OG = nx.read_gexf(f'{dataDir}/original/xyz_d.gexf')\n",
    "  overlapPP.append(createOverlapGraph(G_PP, G_OG))\n",
    "  wrongPP.append(createWrongGraph(G_PP, G_OG))\n",
    "\n",
    "%store overlapPP\n",
    "%store wrongPP"
   ]
  },
  {
   "cell_type": "code",
   "execution_count": 23,
   "metadata": {},
   "outputs": [
    {
     "name": "stdout",
     "output_type": "stream",
     "text": [
      "Penpal connection which exist in C.E.:\t\t 23\n",
      "Penpal connection which do not exist in C.E.:\t 128\n"
     ]
    }
   ],
   "source": [
    "%store -r overlapPP\n",
    "G_TotalOverlap = nx.create_empty_copy(G_SEEM_FC)\n",
    "for g in overlapPP:\n",
    "  G_TotalOverlap.add_edges_from(g.edges())\n",
    "\n",
    "%store -r wrongPP\n",
    "G_TotalWrongPP = nx.create_empty_copy(G_SEEM_FC)\n",
    "for g in wrongPP:\n",
    "  G_TotalWrongPP.add_edges_from(g.edges())\n",
    "\n",
    "print('Penpal connection which exist in C.E.:\\t\\t',G_TotalOverlap.number_of_edges())\n",
    "print('Penpal connection which do not exist in C.E.:\\t',G_TotalWrongPP.number_of_edges())"
   ]
  },
  {
   "cell_type": "markdown",
   "metadata": {},
   "source": [
    "### Total empirical overlap between SEEM and Witvliet connectomes"
   ]
  },
  {
   "cell_type": "code",
   "execution_count": 24,
   "metadata": {},
   "outputs": [
    {
     "name": "stdout",
     "output_type": "stream",
     "text": [
      "All possible SEEM connections: 7376\n",
      "Connections in Union between SEEM and CE Graph: 759\n"
     ]
    }
   ],
   "source": [
    "U = nx.Graph()\n",
    "\n",
    "for i in range(1,9):\n",
    "  dataDir= f'data/witvliet/d{i}'\n",
    "  G = nx.read_gexf(f'{dataDir}/original/xyz_d.gexf')\n",
    "  U.add_edges_from(n for n in G.edges() if n in G_SEEM_FC.edges())\n",
    "\n",
    "print(f'All possible SEEM connections: {G_SEEM_FC.number_of_edges()}')\n",
    "print(f'Connections in Union between SEEM and CE Graph: {U.number_of_edges()}')\n"
   ]
  },
  {
   "cell_type": "code",
   "execution_count": null,
   "metadata": {},
   "outputs": [],
   "source": []
  }
 ],
 "metadata": {
  "kernelspec": {
   "display_name": "Python 3",
   "language": "python",
   "name": "python3"
  },
  "language_info": {
   "codemirror_mode": {
    "name": "ipython",
    "version": 3
   },
   "file_extension": ".py",
   "mimetype": "text/x-python",
   "name": "python",
   "nbconvert_exporter": "python",
   "pygments_lexer": "ipython3",
   "version": "3.11.2 (v3.11.2:878ead1ac1, Feb  7 2023, 10:02:41) [Clang 13.0.0 (clang-1300.0.29.30)]"
  },
  "orig_nbformat": 4,
  "vscode": {
   "interpreter": {
    "hash": "aee8b7b246df8f9039afb4144a1f6fd8d2ca17a180786b69acc140d282b71a49"
   }
  }
 },
 "nbformat": 4,
 "nbformat_minor": 2
}
