{
 "cells": [
  {
   "cell_type": "code",
   "execution_count": 9,
   "metadata": {},
   "outputs": [],
   "source": [
    "from cdlib import NodeClustering, algorithms\n",
    "import numpy as np\n",
    "import networkx as nx\n",
    "import wurlitzer"
   ]
  },
  {
   "cell_type": "code",
   "execution_count": 10,
   "metadata": {},
   "outputs": [],
   "source": [
    "# %store -r G_overlap_W7_W8\n",
    "# %store -r G_overlap_W7_White\n",
    "# %store -r G_overlap_W8_White\n",
    "# %store -r G_overlap_W7_W8_White\n",
    "# %store -r G_unique_W7\n",
    "# %store -r G_unique_W8\n",
    "# %store -r G_unique_White\n",
    "\n",
    "G_overlap_W7_W8 = nx.read_gexf('data/overlaps/overlap_W7_W8.gexf')\n",
    "G_overlap_W7_White = nx.read_gexf('data/overlaps/overlap_W7_White.gexf')\n",
    "G_overlap_W8_White = nx.read_gexf('data/overlaps/overlap_W8_White.gexf')\n",
    "\n",
    "G_overlap_W7_W8_White = nx.read_gexf('data/overlaps/overlap_W7_W8_White.gexf')\n",
    "\n",
    "G_unique_W7 = nx.read_gexf('data/overlaps/unique_W7.gexf')\n",
    "G_unique_W8 = nx.read_gexf('data/overlaps/unique_W8.gexf')\n",
    "G_unique_White = nx.read_gexf('data/overlaps/unique_White.gexf')"
   ]
  },
  {
   "cell_type": "code",
   "execution_count": 11,
   "metadata": {},
   "outputs": [],
   "source": [
    "def infoMap(G):\n",
    "  # run infomap on graph\n",
    "  coms = algorithms.infomap(G)\n",
    "\n",
    "  #retreave a dictionary mapping the nodes to their infomap communities\n",
    "  comm_map = coms.to_node_community_map()\n",
    "  print('Infomap found ',len(coms.communities), 'communities.')\n",
    "\n",
    "  return comm_map\n",
    "\n",
    "  # # convert the conference map into a list of all nodes in each conference\n",
    "  # conf_list = []\n",
    "\n",
    "  # for i in range(13):\n",
    "  #   conf_list.append([])\n",
    "\n",
    "  # for name, conference in conference_map.items():\n",
    "  #   conf_list[conference].append(name)\n",
    "\n",
    "  # # convert into a NodeClustering object for analysis\n",
    "  # confs = NodeClustering(conf_list, graph=G)\n",
    "\n",
    "  # # Adjusted Mutual Information between the two community orientations\n",
    "  # AMI_Infomap = confs.adjusted_mutual_information(coms).score\n",
    "  # print('Adjusted Mutual Information with Infomap Communities: ', AMI_Infomap)\n"
   ]
  },
  {
   "cell_type": "code",
   "execution_count": 12,
   "metadata": {},
   "outputs": [],
   "source": [
    "\n",
    "def cluster_infoMap(G, isolates=False):\n",
    "  G_copy = G.copy()\n",
    "\n",
    "  if not isolates:\n",
    "    isolates = list(nx.isolates(G))\n",
    "    G_copy.remove_nodes_from(isolates)\n",
    "  \n",
    "  comm_map = infoMap(G_copy)\n",
    "\n",
    "  for node in G_copy.nodes():\n",
    "    G_copy.nodes[node]['community'] = comm_map[node][0]\n",
    "\n",
    "  return G_copy"
   ]
  },
  {
   "cell_type": "code",
   "execution_count": 13,
   "metadata": {},
   "outputs": [
    {
     "name": "stdout",
     "output_type": "stream",
     "text": [
      "Infomap found  5 communities.\n",
      "Infomap found  23 communities.\n",
      "Infomap found  5 communities.\n",
      "Infomap found  2 communities.\n",
      "Infomap found  16 communities.\n",
      "Infomap found  20 communities.\n",
      "Infomap found  9 communities.\n"
     ]
    }
   ],
   "source": [
    "G_info_W7 = cluster_infoMap(G_unique_W7)\n",
    "G_info_W8 = cluster_infoMap(G_unique_W8)\n",
    "G_info_White = cluster_infoMap(G_unique_White)\n",
    "\n",
    "G_info_W7W8 = cluster_infoMap(G_overlap_W7_W8)\n",
    "G_info_W7White = cluster_infoMap(G_overlap_W7_White)\n",
    "G_info_W8White = cluster_infoMap(G_overlap_W8_White)\n",
    "\n",
    "G_info_All = cluster_infoMap(G_overlap_W7_W8_White)"
   ]
  },
  {
   "cell_type": "code",
   "execution_count": 14,
   "metadata": {},
   "outputs": [
    {
     "name": "stdout",
     "output_type": "stream",
     "text": [
      "Stored 'G_info_W7' (DiGraph)\n",
      "Stored 'G_info_W8' (DiGraph)\n",
      "Stored 'G_info_White' (DiGraph)\n",
      "Stored 'G_info_W7W8' (DiGraph)\n",
      "Stored 'G_info_W7White' (DiGraph)\n",
      "Stored 'G_info_W8White' (DiGraph)\n",
      "Stored 'G_info_All' (DiGraph)\n"
     ]
    }
   ],
   "source": [
    "nx.write_gexf(G_info_W7, 'data/overlaps/communities/infomap/unique_W7.gexf')\n",
    "nx.write_gexf(G_info_W8, 'data/overlaps/communities/infomap/unique_W8.gexf')\n",
    "nx.write_gexf(G_info_White, 'data/overlaps/communities/infomap/unique_White.gexf')\n",
    "\n",
    "nx.write_gexf(G_info_W7W8, 'data/overlaps/communities/infomap/overlap_W7_W8.gexf')\n",
    "nx.write_gexf(G_info_W7White, 'data/overlaps/communities/infomap/overlap_W7_White.gexf')\n",
    "nx.write_gexf(G_info_W8White, 'data/overlaps/communities/infomap/overlap_W8_White.gexf')\n",
    "\n",
    "nx.write_gexf(G_info_All, 'data/overlaps/communities/infomap/overlap_W7_W8_White.gexf')\n",
    "\n",
    "%store G_info_W7\n",
    "%store G_info_W8\n",
    "%store G_info_White\n",
    "%store G_info_W7W8\n",
    "%store G_info_W7White\n",
    "%store G_info_W8White\n",
    "%store G_info_All"
   ]
  },
  {
   "cell_type": "markdown",
   "metadata": {},
   "source": [
    "- display communities in networkx\n",
    "- edge centric community detection\n",
    "- k-core decomposition\n",
    "- centralities"
   ]
  }
 ],
 "metadata": {
  "kernelspec": {
   "display_name": "Python 3.9.14 64-bit",
   "language": "python",
   "name": "python3"
  },
  "language_info": {
   "codemirror_mode": {
    "name": "ipython",
    "version": 3
   },
   "file_extension": ".py",
   "mimetype": "text/x-python",
   "name": "python",
   "nbconvert_exporter": "python",
   "pygments_lexer": "ipython3",
   "version": "3.9.14"
  },
  "orig_nbformat": 4,
  "vscode": {
   "interpreter": {
    "hash": "a665b5d41d17b532ea9890333293a1b812fa0b73c9c25c950b3cedf1bebd0438"
   }
  }
 },
 "nbformat": 4,
 "nbformat_minor": 2
}
