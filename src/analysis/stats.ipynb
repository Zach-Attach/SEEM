{
 "cells": [
  {
   "cell_type": "code",
   "execution_count": 1,
   "metadata": {},
   "outputs": [],
   "source": [
    "import networkx as nx\n",
    "import matplotlib.pyplot as plt\n",
    "import numpy as np\n",
    "from numpy.random import rand\n",
    "import pandas as pd\n",
    "from lib.style import color\n",
    "import pickle\n",
    "\n",
    "from lib.graphs import G_Witvliet, G_White, getCleanGraph\n",
    "G_W1 = G_Witvliet[0]\n",
    "G_W7 = G_Witvliet[6]\n",
    "G_W8 = G_Witvliet[7]\n",
    "\n",
    "G_clean = getCleanGraph()\n",
    "\n",
    "G_SEEM_FC = nx.read_gexf('data/Kaiser/131/compiled/xyzp_d_SEEM_FC.gexf')\n"
   ]
  },
  {
   "cell_type": "code",
   "execution_count": 2,
   "metadata": {},
   "outputs": [],
   "source": [
    "%store -r rand_Graphs_W1\n",
    "%store -r rand_Graphs_W7\n",
    "%store -r rand_Graphs_W8\n",
    "%store -r rand_Graphs_White\n",
    "\n",
    "%store -r RDDAM_Graphs_W1\n",
    "%store -r RDDAM_Graphs_W7\n",
    "%store -r RDDAM_Graphs_W8\n",
    "%store -r RDDAM_Graphs_White\n",
    "\n",
    "# %store -r G_SEEM_FC\n",
    "%store -r SEEM_White\n",
    "%store -r SEEM_Array_Witvliet"
   ]
  },
  {
   "cell_type": "code",
   "execution_count": 3,
   "metadata": {},
   "outputs": [],
   "source": [
    "def avgDistance(G):\n",
    "  distances = [e[2] for e in G.out_edges.data('distance')]\n",
    "  return np.mean(distances)"
   ]
  },
  {
   "cell_type": "code",
   "execution_count": 4,
   "metadata": {},
   "outputs": [],
   "source": [
    "#clustering coefficient\n",
    "\n",
    "def averageMetric(graphs, metric):\n",
    "  outputs = np.array([])\n",
    "  for g in graphs:\n",
    "    out = metric(g)\n",
    "    outputs = np.append(outputs, out)\n",
    "  return np.mean(outputs)\n",
    "\n",
    "def getData(metric):\n",
    "  res_SEEM_W1 = averageMetric(SEEM_Array_Witvliet[0], metric)\n",
    "  res_SEEM_W8 = averageMetric(SEEM_Array_Witvliet[7], metric)\n",
    "  res_W1 = metric(G_W1)\n",
    "  res_W8 = averageMetric([G_W7,G_W8, G_White], metric)\n",
    "  res_rand_W1 = averageMetric(rand_Graphs_W1, metric)\n",
    "  res_rand_W8 = averageMetric(rand_Graphs_W8, metric)\n",
    "  res_RDDA_W1 = averageMetric(RDDAM_Graphs_W1, metric)\n",
    "  res_RDDA_W8 = averageMetric(RDDAM_Graphs_W8, metric)\n",
    "  \n",
    "  return [res_SEEM_W1, res_RDDA_W1, res_rand_W1, res_W1, res_SEEM_W8, res_RDDA_W8, res_rand_W8, res_W8]\n"
   ]
  },
  {
   "cell_type": "code",
   "execution_count": 5,
   "metadata": {},
   "outputs": [],
   "source": [
    "\n",
    "def listMetrics2(graph, metric):\n",
    "  outputs = np.array([])\n",
    "  for g in graph:\n",
    "    out = metric(g)\n",
    "    outputs = np.append(outputs, out)\n",
    "  return outputs\n",
    "\n",
    "def getData2(metric):\n",
    "  res_SEEM_W1 =listMetrics2(SEEM_Array_Witvliet[0], metric)\n",
    "  res_SEEM_W8 =listMetrics2(SEEM_Array_Witvliet[7], metric)\n",
    "  res_W1 = metric(G_W1)\n",
    "  res_W8 = listMetrics2([G_W7,G_W8, G_White], metric)\n",
    "  res_rand_W1 =listMetrics2(rand_Graphs_W1, metric)\n",
    "  res_rand_W8 =listMetrics2(rand_Graphs_W8, metric)\n",
    "  res_RDDA_W1 =listMetrics2(RDDAM_Graphs_W1, metric)\n",
    "  res_RDDA_W8 =listMetrics2(RDDAM_Graphs_W8, metric)\n",
    "  \n",
    "  return [res_SEEM_W1, res_RDDA_W1, res_rand_W1, res_W1, res_SEEM_W8, res_RDDA_W8, res_rand_W8, res_W8]\n"
   ]
  },
  {
   "cell_type": "code",
   "execution_count": 6,
   "metadata": {},
   "outputs": [],
   "source": [
    "def biDirectionalLinks(G):\n",
    "  n_links = 0\n",
    "  for e in G.edges():\n",
    "    if (e[1], e[0]) in G.edges():\n",
    "      n_links += 1\n",
    "  return ( n_links / 2 )"
   ]
  },
  {
   "cell_type": "code",
   "execution_count": 7,
   "metadata": {},
   "outputs": [],
   "source": [
    "def avgInDegree(G):\n",
    "  return np.mean(list(dict(G.in_degree()).values()))\n",
    "  \n",
    "def avgOutDegree(G):\n",
    "  return np.mean(list(dict(G.out_degree()).values()))\n",
    "\n",
    "def avgDegree(G):\n",
    "  return np.mean(list(dict(G.degree()).values()))\n",
    "\n",
    "def avgClosenessCentrality(G):\n",
    "  return np.mean(list(nx.closeness_centrality(G).values()))"
   ]
  },
  {
   "cell_type": "code",
   "execution_count": 8,
   "metadata": {},
   "outputs": [],
   "source": [
    "### RUN THIS OVER NIGHT ###\n",
    "\n",
    "%store -r SEEM_Array_Witvliet_Rand SEEM_White_Rand\n",
    "\n",
    "def getData3(metric):\n",
    "\n",
    "  seemAdult = SEEM_Array_Witvliet[6] + SEEM_Array_Witvliet[7] + SEEM_White\n",
    "  rddaAdult = RDDAM_Graphs_W7 + RDDAM_Graphs_W8 + RDDAM_Graphs_White\n",
    "  randAdult = rand_Graphs_W7 + rand_Graphs_W8 + rand_Graphs_White\n",
    "  reemAdult = SEEM_Array_Witvliet_Rand[6] + SEEM_Array_Witvliet_Rand[7] + SEEM_White_Rand\n",
    "\n",
    "  res_SEEM_W1 =listMetrics2(SEEM_Array_Witvliet[0], metric)\n",
    "  res_SEEM_W8 =listMetrics2(seemAdult, metric)\n",
    "  res_W1 = metric(G_W1)\n",
    "  res_W8 = listMetrics2([G_W7,G_W8, G_White], metric)\n",
    "  res_rand_W1 =listMetrics2(rand_Graphs_W1, metric)\n",
    "  res_rand_W8 =listMetrics2(randAdult, metric)\n",
    "  res_RDDA_W1 =listMetrics2(RDDAM_Graphs_W1, metric)\n",
    "  res_RDDA_W8 =listMetrics2(rddaAdult, metric)\n",
    "  res_REEM_W1 =listMetrics2(SEEM_Array_Witvliet_Rand[0], metric)\n",
    "  res_REEM_W8 =listMetrics2(reemAdult, metric)\n",
    "  \n",
    "  return [res_SEEM_W1, res_RDDA_W1, res_rand_W1, res_REEM_W1, res_W1, res_SEEM_W8, res_RDDA_W8, res_rand_W8, res_REEM_W8, res_W8]\n"
   ]
  },
  {
   "cell_type": "code",
   "execution_count": 9,
   "metadata": {},
   "outputs": [],
   "source": [
    "\n",
    "# stats3: dict = {'Clustering Coefficient': getData3(nx.average_clustering),\n",
    "# 'Edge Distance': getData3(avgDistance),\n",
    "# 'Average Connectivity': getData3(nx.average_node_connectivity),\n",
    "# 'Total Bidirectional Links': getData3(biDirectionalLinks)}\n",
    "# %store stats3\n",
    "# print(stats3)\n",
    "\n",
    "# import pickle\n",
    "\n",
    "# pickle.dump(stats3, open('data/pickles/stats3.pkl', 'wb'))"
   ]
  },
  {
   "cell_type": "code",
   "execution_count": 10,
   "metadata": {},
   "outputs": [
    {
     "ename": "KeyboardInterrupt",
     "evalue": "",
     "output_type": "error",
     "traceback": [
      "\u001b[0;31m---------------------------------------------------------------------------\u001b[0m",
      "\u001b[0;31mKeyboardInterrupt\u001b[0m                         Traceback (most recent call last)",
      "Cell \u001b[0;32mIn[10], line 7\u001b[0m\n\u001b[1;32m      5\u001b[0m res_REEM_W1 \u001b[39m=\u001b[39mlistMetrics2(SEEM_Array_Witvliet_Rand[\u001b[39m0\u001b[39m], metric)\n\u001b[1;32m      6\u001b[0m pickle\u001b[39m.\u001b[39mdump(res_REEM_W1, \u001b[39mopen\u001b[39m(\u001b[39m'\u001b[39m\u001b[39mdata/pickles/reem1.pkl\u001b[39m\u001b[39m'\u001b[39m, \u001b[39m'\u001b[39m\u001b[39mwb\u001b[39m\u001b[39m'\u001b[39m))\n\u001b[0;32m----> 7\u001b[0m res_REEM_W8 \u001b[39m=\u001b[39mlistMetrics2(SEEM_Array_Witvliet_Rand[\u001b[39m7\u001b[39;49m], metric)\n\u001b[1;32m      8\u001b[0m pickle\u001b[39m.\u001b[39mdump(res_REEM_W8, \u001b[39mopen\u001b[39m(\u001b[39m'\u001b[39m\u001b[39mdata/pickles/reem7.pkl\u001b[39m\u001b[39m'\u001b[39m, \u001b[39m'\u001b[39m\u001b[39mwb\u001b[39m\u001b[39m'\u001b[39m))\n",
      "Cell \u001b[0;32mIn[5], line 4\u001b[0m, in \u001b[0;36mlistMetrics2\u001b[0;34m(graph, metric)\u001b[0m\n\u001b[1;32m      2\u001b[0m outputs \u001b[39m=\u001b[39m np\u001b[39m.\u001b[39marray([])\n\u001b[1;32m      3\u001b[0m \u001b[39mfor\u001b[39;00m g \u001b[39min\u001b[39;00m graph:\n\u001b[0;32m----> 4\u001b[0m   out \u001b[39m=\u001b[39m metric(g)\n\u001b[1;32m      5\u001b[0m   outputs \u001b[39m=\u001b[39m np\u001b[39m.\u001b[39mappend(outputs, out)\n\u001b[1;32m      6\u001b[0m \u001b[39mreturn\u001b[39;00m outputs\n",
      "File \u001b[0;32m/Library/Frameworks/Python.framework/Versions/3.11/lib/python3.11/site-packages/networkx/algorithms/connectivity/connectivity.py:414\u001b[0m, in \u001b[0;36maverage_node_connectivity\u001b[0;34m(G, flow_func)\u001b[0m\n\u001b[1;32m    412\u001b[0m num, den \u001b[39m=\u001b[39m \u001b[39m0\u001b[39m, \u001b[39m0\u001b[39m\n\u001b[1;32m    413\u001b[0m \u001b[39mfor\u001b[39;00m u, v \u001b[39min\u001b[39;00m iter_func(G, \u001b[39m2\u001b[39m):\n\u001b[0;32m--> 414\u001b[0m     num \u001b[39m+\u001b[39m\u001b[39m=\u001b[39m local_node_connectivity(G, u, v, \u001b[39m*\u001b[39;49m\u001b[39m*\u001b[39;49mkwargs)\n\u001b[1;32m    415\u001b[0m     den \u001b[39m+\u001b[39m\u001b[39m=\u001b[39m \u001b[39m1\u001b[39m\n\u001b[1;32m    417\u001b[0m \u001b[39mif\u001b[39;00m den \u001b[39m==\u001b[39m \u001b[39m0\u001b[39m:  \u001b[39m# Null Graph\u001b[39;00m\n",
      "File \u001b[0;32m/Library/Frameworks/Python.framework/Versions/3.11/lib/python3.11/site-packages/networkx/algorithms/connectivity/connectivity.py:211\u001b[0m, in \u001b[0;36mlocal_node_connectivity\u001b[0;34m(G, s, t, flow_func, auxiliary, residual, cutoff)\u001b[0m\n\u001b[1;32m    208\u001b[0m \u001b[39melif\u001b[39;00m flow_func \u001b[39mis\u001b[39;00m boykov_kolmogorov:\n\u001b[1;32m    209\u001b[0m     kwargs[\u001b[39m\"\u001b[39m\u001b[39mcutoff\u001b[39m\u001b[39m\"\u001b[39m] \u001b[39m=\u001b[39m cutoff\n\u001b[0;32m--> 211\u001b[0m \u001b[39mreturn\u001b[39;00m nx\u001b[39m.\u001b[39;49mmaximum_flow_value(H, \u001b[39mf\u001b[39;49m\u001b[39m\"\u001b[39;49m\u001b[39m{\u001b[39;49;00mmapping[s]\u001b[39m}\u001b[39;49;00m\u001b[39mB\u001b[39;49m\u001b[39m\"\u001b[39;49m, \u001b[39mf\u001b[39;49m\u001b[39m\"\u001b[39;49m\u001b[39m{\u001b[39;49;00mmapping[t]\u001b[39m}\u001b[39;49;00m\u001b[39mA\u001b[39;49m\u001b[39m\"\u001b[39;49m, \u001b[39m*\u001b[39;49m\u001b[39m*\u001b[39;49mkwargs)\n",
      "File \u001b[0;32m/Library/Frameworks/Python.framework/Versions/3.11/lib/python3.11/site-packages/networkx/algorithms/flow/maxflow.py:307\u001b[0m, in \u001b[0;36mmaximum_flow_value\u001b[0;34m(flowG, _s, _t, capacity, flow_func, **kwargs)\u001b[0m\n\u001b[1;32m    304\u001b[0m \u001b[39mif\u001b[39;00m \u001b[39mnot\u001b[39;00m callable(flow_func):\n\u001b[1;32m    305\u001b[0m     \u001b[39mraise\u001b[39;00m nx\u001b[39m.\u001b[39mNetworkXError(\u001b[39m\"\u001b[39m\u001b[39mflow_func has to be callable.\u001b[39m\u001b[39m\"\u001b[39m)\n\u001b[0;32m--> 307\u001b[0m R \u001b[39m=\u001b[39m flow_func(flowG, _s, _t, capacity\u001b[39m=\u001b[39;49mcapacity, value_only\u001b[39m=\u001b[39;49m\u001b[39mTrue\u001b[39;49;00m, \u001b[39m*\u001b[39;49m\u001b[39m*\u001b[39;49mkwargs)\n\u001b[1;32m    309\u001b[0m \u001b[39mreturn\u001b[39;00m R\u001b[39m.\u001b[39mgraph[\u001b[39m\"\u001b[39m\u001b[39mflow_value\u001b[39m\u001b[39m\"\u001b[39m]\n",
      "File \u001b[0;32m/Library/Frameworks/Python.framework/Versions/3.11/lib/python3.11/site-packages/networkx/algorithms/flow/edmondskarp.py:237\u001b[0m, in \u001b[0;36medmonds_karp\u001b[0;34m(G, s, t, capacity, residual, value_only, cutoff)\u001b[0m\n\u001b[1;32m    120\u001b[0m \u001b[39mdef\u001b[39;00m \u001b[39medmonds_karp\u001b[39m(\n\u001b[1;32m    121\u001b[0m     G, s, t, capacity\u001b[39m=\u001b[39m\u001b[39m\"\u001b[39m\u001b[39mcapacity\u001b[39m\u001b[39m\"\u001b[39m, residual\u001b[39m=\u001b[39m\u001b[39mNone\u001b[39;00m, value_only\u001b[39m=\u001b[39m\u001b[39mFalse\u001b[39;00m, cutoff\u001b[39m=\u001b[39m\u001b[39mNone\u001b[39;00m\n\u001b[1;32m    122\u001b[0m ):\n\u001b[1;32m    123\u001b[0m \u001b[39m    \u001b[39m\u001b[39m\"\"\"Find a maximum single-commodity flow using the Edmonds-Karp algorithm.\u001b[39;00m\n\u001b[1;32m    124\u001b[0m \n\u001b[1;32m    125\u001b[0m \u001b[39m    This function returns the residual network resulting after computing\u001b[39;00m\n\u001b[0;32m   (...)\u001b[0m\n\u001b[1;32m    235\u001b[0m \n\u001b[1;32m    236\u001b[0m \u001b[39m    \"\"\"\u001b[39;00m\n\u001b[0;32m--> 237\u001b[0m     R \u001b[39m=\u001b[39m edmonds_karp_impl(G, s, t, capacity, residual, cutoff)\n\u001b[1;32m    238\u001b[0m     R\u001b[39m.\u001b[39mgraph[\u001b[39m\"\u001b[39m\u001b[39malgorithm\u001b[39m\u001b[39m\"\u001b[39m] \u001b[39m=\u001b[39m \u001b[39m\"\u001b[39m\u001b[39medmonds_karp\u001b[39m\u001b[39m\"\u001b[39m\n\u001b[1;32m    239\u001b[0m     \u001b[39mreturn\u001b[39;00m R\n",
      "File \u001b[0;32m/Library/Frameworks/Python.framework/Versions/3.11/lib/python3.11/site-packages/networkx/algorithms/flow/edmondskarp.py:115\u001b[0m, in \u001b[0;36medmonds_karp_impl\u001b[0;34m(G, s, t, capacity, residual, cutoff)\u001b[0m\n\u001b[1;32m    113\u001b[0m \u001b[39mif\u001b[39;00m cutoff \u001b[39mis\u001b[39;00m \u001b[39mNone\u001b[39;00m:\n\u001b[1;32m    114\u001b[0m     cutoff \u001b[39m=\u001b[39m \u001b[39mfloat\u001b[39m(\u001b[39m\"\u001b[39m\u001b[39minf\u001b[39m\u001b[39m\"\u001b[39m)\n\u001b[0;32m--> 115\u001b[0m R\u001b[39m.\u001b[39mgraph[\u001b[39m\"\u001b[39m\u001b[39mflow_value\u001b[39m\u001b[39m\"\u001b[39m] \u001b[39m=\u001b[39m edmonds_karp_core(R, s, t, cutoff)\n\u001b[1;32m    117\u001b[0m \u001b[39mreturn\u001b[39;00m R\n",
      "File \u001b[0;32m/Library/Frameworks/Python.framework/Versions/3.11/lib/python3.11/site-packages/networkx/algorithms/flow/edmondskarp.py:74\u001b[0m, in \u001b[0;36medmonds_karp_core\u001b[0;34m(R, s, t, cutoff)\u001b[0m\n\u001b[1;32m     72\u001b[0m flow_value \u001b[39m=\u001b[39m \u001b[39m0\u001b[39m\n\u001b[1;32m     73\u001b[0m \u001b[39mwhile\u001b[39;00m flow_value \u001b[39m<\u001b[39m cutoff:\n\u001b[0;32m---> 74\u001b[0m     v, pred, succ \u001b[39m=\u001b[39m bidirectional_bfs()\n\u001b[1;32m     75\u001b[0m     \u001b[39mif\u001b[39;00m pred \u001b[39mis\u001b[39;00m \u001b[39mNone\u001b[39;00m:\n\u001b[1;32m     76\u001b[0m         \u001b[39mbreak\u001b[39;00m\n",
      "File \u001b[0;32m/Library/Frameworks/Python.framework/Versions/3.11/lib/python3.11/site-packages/networkx/algorithms/flow/edmondskarp.py:50\u001b[0m, in \u001b[0;36medmonds_karp_core.<locals>.bidirectional_bfs\u001b[0;34m()\u001b[0m\n\u001b[1;32m     48\u001b[0m \u001b[39mif\u001b[39;00m \u001b[39mlen\u001b[39m(q_s) \u001b[39m<\u001b[39m\u001b[39m=\u001b[39m \u001b[39mlen\u001b[39m(q_t):\n\u001b[1;32m     49\u001b[0m     \u001b[39mfor\u001b[39;00m u \u001b[39min\u001b[39;00m q_s:\n\u001b[0;32m---> 50\u001b[0m         \u001b[39mfor\u001b[39;00m v, attr \u001b[39min\u001b[39;00m R_succ[u]\u001b[39m.\u001b[39mitems():\n\u001b[1;32m     51\u001b[0m             \u001b[39mif\u001b[39;00m v \u001b[39mnot\u001b[39;00m \u001b[39min\u001b[39;00m pred \u001b[39mand\u001b[39;00m attr[\u001b[39m\"\u001b[39m\u001b[39mflow\u001b[39m\u001b[39m\"\u001b[39m] \u001b[39m<\u001b[39m attr[\u001b[39m\"\u001b[39m\u001b[39mcapacity\u001b[39m\u001b[39m\"\u001b[39m]:\n\u001b[1;32m     52\u001b[0m                 pred[v] \u001b[39m=\u001b[39m u\n",
      "File \u001b[0;32m<frozen _collections_abc>:861\u001b[0m, in \u001b[0;36m__iter__\u001b[0;34m(self)\u001b[0m\n",
      "\u001b[0;31mKeyboardInterrupt\u001b[0m: "
     ]
    }
   ],
   "source": [
    "%store -r SEEM_Array_Witvliet_Rand SEEM_White_Rand\n",
    "\n",
    "reemAdult = SEEM_Array_Witvliet_Rand[6] + SEEM_Array_Witvliet_Rand[7] + SEEM_White_Rand\n",
    "metric = nx.average_node_connectivity\n",
    "res_REEM_W1 =listMetrics2(SEEM_Array_Witvliet_Rand[0], metric)\n",
    "pickle.dump(res_REEM_W1, open('data/pickles/reem1.pkl', 'wb'))\n",
    "res_REEM_W8 =listMetrics2(SEEM_Array_Witvliet_Rand[7], metric)\n",
    "pickle.dump(res_REEM_W8, open('data/pickles/reem7.pkl', 'wb'))"
   ]
  },
  {
   "cell_type": "code",
   "execution_count": null,
   "metadata": {},
   "outputs": [],
   "source": [
    "res_REEM_W7 =listMetrics2(SEEM_Array_Witvliet_Rand[6], metric)\n",
    "pickle.dump(res_REEM_W7, open('data/pickles/reem6.pkl', 'wb'))\n",
    "res_REEM_White =listMetrics2(SEEM_White_Rand, metric)\n",
    "pickle.dump(res_REEM_White, open('data/pickles/reemWhite.pkl', 'wb'))"
   ]
  },
  {
   "cell_type": "code",
   "execution_count": null,
   "metadata": {},
   "outputs": [],
   "source": [
    "res_SEEM_W7 =listMetrics2(SEEM_Array_Witvliet[6], metric)\n",
    "pickle.dump(res_SEEM_W7, open('data/pickles/seem6.pkl', 'wb'))\n",
    "res_SEEM_White =listMetrics2(SEEM_White, metric)\n",
    "pickle.dump(res_SEEM_White, open('data/pickles/seemWhite.pkl', 'wb'))\n"
   ]
  },
  {
   "cell_type": "code",
   "execution_count": null,
   "metadata": {},
   "outputs": [],
   "source": [
    "res_SEEM_W1 =listMetrics2(SEEM_Array_Witvliet[0], metric)\n",
    "pickle.dump(res_SEEM_W1, open('data/pickles/seem1.pkl', 'wb'))\n",
    "res_SEEM_W8 =listMetrics2(SEEM_Array_Witvliet[7], metric)\n",
    "pickle.dump(res_SEEM_W8, open('data/pickles/seem7.pkl', 'wb'))\n"
   ]
  },
  {
   "cell_type": "code",
   "execution_count": null,
   "metadata": {},
   "outputs": [],
   "source": [
    "\n",
    "res_rand_W7 =listMetrics2(rand_Graphs_W7, metric)\n",
    "pickle.dump(res_rand_W7, open('data/pickles/rand6.pkl', 'wb'))\n",
    "res_rand_White =listMetrics2(rand_Graphs_White, metric)\n",
    "pickle.dump(res_rand_White, open('data/pickles/randWhite.pkl', 'wb'))\n"
   ]
  },
  {
   "cell_type": "code",
   "execution_count": null,
   "metadata": {},
   "outputs": [],
   "source": [
    "res_RDDA_W7 =listMetrics2(RDDAM_Graphs_W7, metric)\n",
    "pickle.dump(res_RDDA_W7, open('data/pickles/rdda6.pkl', 'wb'))\n",
    "res_RDDA_White =listMetrics2(RDDAM_Graphs_White, metric)\n",
    "pickle.dump(res_RDDA_White, open('data/pickles/rddaWhite.pkl', 'wb'))"
   ]
  },
  {
   "cell_type": "code",
   "execution_count": null,
   "metadata": {},
   "outputs": [],
   "source": [
    "res_rand_W1 =listMetrics2(rand_Graphs_W1, metric)\n",
    "pickle.dump(res_rand_W1, open('data/pickles/rand1.pkl', 'wb'))\n",
    "res_rand_W8 =listMetrics2(rand_Graphs_W8, metric)\n",
    "pickle.dump(res_rand_W8, open('data/pickles/rand7.pkl', 'wb'))"
   ]
  },
  {
   "cell_type": "code",
   "execution_count": null,
   "metadata": {},
   "outputs": [],
   "source": [
    "res_RDDA_W1 =listMetrics2(RDDAM_Graphs_W1, metric)\n",
    "pickle.dump(res_RDDA_W1, open('data/pickles/rdda1.pkl', 'wb'))\n",
    "res_RDDA_W8 =listMetrics2(RDDAM_Graphs_W8, metric)\n",
    "pickle.dump(res_RDDA_W8, open('data/pickles/rdda7.pkl', 'wb'))"
   ]
  },
  {
   "cell_type": "code",
   "execution_count": 11,
   "metadata": {},
   "outputs": [],
   "source": [
    "avgCon3 = [\n",
    "  pickle.load(open('data/pickles/seem1.pkl', 'rb')),\n",
    "  pickle.load(open('data/pickles/rdda1.pkl', 'rb')),\n",
    "  pickle.load(open('data/pickles/rand1.pkl', 'rb')),\n",
    "  pickle.load(open('data/pickles/reem1.pkl', 'rb')),\n",
    "  nx.average_node_connectivity(G_W1),\n",
    "  pickle.load(open('data/pickles/seem6.pkl', 'rb'))+pickle.load(open('data/pickles/seem7.pkl', 'rb'))+pickle.load(open('data/pickles/seemWhite.pkl', 'rb')),\n",
    "  pickle.load(open('data/pickles/rdda6.pkl', 'rb'))+pickle.load(open('data/pickles/rdda7.pkl', 'rb'))+pickle.load(open('data/pickles/rddaWhite.pkl', 'rb')),\n",
    "  pickle.load(open('data/pickles/rand6.pkl', 'rb'))+pickle.load(open('data/pickles/rand7.pkl', 'rb'))+pickle.load(open('data/pickles/randWhite.pkl', 'rb')),\n",
    "  pickle.load(open('data/pickles/reem6.pkl', 'rb'))+pickle.load(open('data/pickles/reem7.pkl', 'rb'))+pickle.load(open('data/pickles/reemWhite.pkl', 'rb')),\n",
    "  [nx.average_node_connectivity(G_W7),nx.average_node_connectivity(G_W8),nx.average_node_connectivity(G_White)],\n",
    "]\n",
    "\n",
    "stats2: dict = {'Clustering Coefficient': getData3(nx.average_clustering),\n",
    "'Edge Distance': getData3(avgDistance),\n",
    "# 'Average Connectivity': getData2(nx.average_node_connectivity),\n",
    "'Total Bidirectional Links': getData3(biDirectionalLinks)}\n",
    "\n",
    "stats2['Average Connectivity'] = avgCon3\n",
    "# else:\n",
    "#   print('no')"
   ]
  },
  {
   "cell_type": "code",
   "execution_count": 12,
   "metadata": {},
   "outputs": [],
   "source": [
    "# stats: dict = {'Clustering Coefficient': getData2(nx.average_clustering),\n",
    "# 'Edge Distance': getData2(avgDistance),\n",
    "# 'Average Connectivity': getData2(nx.average_node_connectivity),\n",
    "# 'Total Bidirectional Links': getData2(biDirectionalLinks)}\n",
    "# %store stats\n",
    "# print(stats)\n"
   ]
  },
  {
   "cell_type": "code",
   "execution_count": 13,
   "metadata": {},
   "outputs": [],
   "source": [
    "# with open('data.txt', 'w') as f:\n",
    "#     f.write(str(stats))"
   ]
  },
  {
   "cell_type": "code",
   "execution_count": 14,
   "metadata": {},
   "outputs": [],
   "source": [
    "# import pickle\n",
    "\n",
    "pickle.dump(stats2, open('data/pickles/stats2.pkl', 'wb'))"
   ]
  },
  {
   "cell_type": "code",
   "execution_count": 15,
   "metadata": {},
   "outputs": [],
   "source": [
    "# stats2 = pickle.load(open('data/pickles/stats.pkl', 'rb'))"
   ]
  },
  {
   "cell_type": "code",
   "execution_count": 16,
   "metadata": {},
   "outputs": [],
   "source": [
    "\n",
    "# data = {'Clustering Coefficient': getData(nx.average_clustering),\n",
    "# 'Edge Distance': getData(avgDistance),\n",
    "# # 'Average Connectivity': getData(nx.average_node_connectivity),\n",
    "# # 'In-Degree Centrality': getData(avgInDegree, 'IN-DEGREE'),\n",
    "# # 'Out-Degree Centrality': getData(avgOutDegree, 'OUT-DEGREE'),\n",
    "# # 'Closeness Centrality': getData(avgClosenessCentrality, 'CLOSENESS CENTRALITY'),\n",
    "# 'Total Bidirectional Links': getData(biDirectionalLinks)}"
   ]
  },
  {
   "cell_type": "code",
   "execution_count": 17,
   "metadata": {},
   "outputs": [],
   "source": [
    "modelNames = ('SEEM','RDDA','ERN','REEM','CENN')\n",
    "dataSources = ('L1', 'Adult')\n",
    "measureNamesTex = ('Clustering Coefficient', 'Edge\\\\qquad Distance', 'Average\\\\quad Connectivity', 'Total\\\\qquad Bidirectional Links')\n",
    "measureNames = ('Clustering Coefficient', 'Edge Distance', 'Average Connectivity', 'Total Bidirectional Links')\n",
    "\n",
    "rowLabels = [(d, m) for d in dataSources for m in modelNames]\n",
    "\n",
    "indexL1 = pd.Index(measureNamesTex, name='L1')\n",
    "indexL5 = pd.Index(measureNamesTex, name='L5')\n",
    "\n",
    "index = pd.MultiIndex.from_tuples(rowLabels) #, names=['Data', 'Model']"
   ]
  },
  {
   "cell_type": "code",
   "execution_count": 18,
   "metadata": {},
   "outputs": [
    {
     "data": {
      "text/plain": [
       "{'Clustering Coefficient': [0.08,\n",
       "  0.15,\n",
       "  0.03,\n",
       "  0.07,\n",
       "  0.12,\n",
       "  0.19,\n",
       "  0.25,\n",
       "  0.07,\n",
       "  0.16,\n",
       "  0.22],\n",
       " 'Edge Distance': [16.23,\n",
       "  6.69,\n",
       "  19.17,\n",
       "  16.36,\n",
       "  15.11,\n",
       "  16.25,\n",
       "  7.58,\n",
       "  19.2,\n",
       "  16.38,\n",
       "  14.94],\n",
       " 'Total Bidirectional Links': [26.62,\n",
       "  94.81,\n",
       "  8.38,\n",
       "  44.44,\n",
       "  95.0,\n",
       "  146.76,\n",
       "  288.59,\n",
       "  44.84,\n",
       "  236.49,\n",
       "  283.33],\n",
       " 'Average Connectivity': [2.12,\n",
       "  2.58,\n",
       "  2.89,\n",
       "  2.57,\n",
       "  1.68,\n",
       "  17.0,\n",
       "  20.98,\n",
       "  23.08,\n",
       "  20.27,\n",
       "  5.58]}"
      ]
     },
     "execution_count": 18,
     "metadata": {},
     "output_type": "execute_result"
    }
   ],
   "source": [
    "means = {}\n",
    "\n",
    "for key, value in stats2.items():\n",
    "  means[key] = [np.round(np.mean(value[i]),2) for i in range(len(value))]\n",
    "means"
   ]
  },
  {
   "cell_type": "code",
   "execution_count": 19,
   "metadata": {},
   "outputs": [],
   "source": [
    "meansL1, meansAdult = {m:[] for m in modelNames},{m:[] for m in modelNames}\n",
    "\n",
    "for measure in measureNames:\n",
    "  mean = means[measure]\n",
    "  for i in range(len(modelNames)):\n",
    "    model = modelNames[i]\n",
    "    meansL1[model].append(mean[i])\n",
    "    meansAdult[model].append(mean[i+5])\n"
   ]
  },
  {
   "cell_type": "code",
   "execution_count": 20,
   "metadata": {},
   "outputs": [
    {
     "data": {
      "text/html": [
       "<div>\n",
       "<style scoped>\n",
       "    .dataframe tbody tr th:only-of-type {\n",
       "        vertical-align: middle;\n",
       "    }\n",
       "\n",
       "    .dataframe tbody tr th {\n",
       "        vertical-align: top;\n",
       "    }\n",
       "\n",
       "    .dataframe thead th {\n",
       "        text-align: right;\n",
       "    }\n",
       "</style>\n",
       "<table border=\"1\" class=\"dataframe\">\n",
       "  <thead>\n",
       "    <tr style=\"text-align: right;\">\n",
       "      <th></th>\n",
       "      <th></th>\n",
       "      <th>Clustering Coefficient</th>\n",
       "      <th>Edge Distance</th>\n",
       "      <th>Total Bidirectional Links</th>\n",
       "      <th>Average Connectivity</th>\n",
       "    </tr>\n",
       "  </thead>\n",
       "  <tbody>\n",
       "    <tr>\n",
       "      <th rowspan=\"5\" valign=\"top\">L1</th>\n",
       "      <th>SEEM</th>\n",
       "      <td>0.08</td>\n",
       "      <td>16.23</td>\n",
       "      <td>26.62</td>\n",
       "      <td>2.12</td>\n",
       "    </tr>\n",
       "    <tr>\n",
       "      <th>RDDA</th>\n",
       "      <td>0.15</td>\n",
       "      <td>6.69</td>\n",
       "      <td>94.81</td>\n",
       "      <td>2.58</td>\n",
       "    </tr>\n",
       "    <tr>\n",
       "      <th>ERN</th>\n",
       "      <td>0.03</td>\n",
       "      <td>19.17</td>\n",
       "      <td>8.38</td>\n",
       "      <td>2.89</td>\n",
       "    </tr>\n",
       "    <tr>\n",
       "      <th>REEM</th>\n",
       "      <td>0.07</td>\n",
       "      <td>16.36</td>\n",
       "      <td>44.44</td>\n",
       "      <td>2.57</td>\n",
       "    </tr>\n",
       "    <tr>\n",
       "      <th>CENN</th>\n",
       "      <td>0.12</td>\n",
       "      <td>15.11</td>\n",
       "      <td>95.00</td>\n",
       "      <td>1.68</td>\n",
       "    </tr>\n",
       "    <tr>\n",
       "      <th rowspan=\"5\" valign=\"top\">Adult</th>\n",
       "      <th>SEEM</th>\n",
       "      <td>0.19</td>\n",
       "      <td>16.25</td>\n",
       "      <td>146.76</td>\n",
       "      <td>17.00</td>\n",
       "    </tr>\n",
       "    <tr>\n",
       "      <th>RDDA</th>\n",
       "      <td>0.25</td>\n",
       "      <td>7.58</td>\n",
       "      <td>288.59</td>\n",
       "      <td>20.98</td>\n",
       "    </tr>\n",
       "    <tr>\n",
       "      <th>ERN</th>\n",
       "      <td>0.07</td>\n",
       "      <td>19.20</td>\n",
       "      <td>44.84</td>\n",
       "      <td>23.08</td>\n",
       "    </tr>\n",
       "    <tr>\n",
       "      <th>REEM</th>\n",
       "      <td>0.16</td>\n",
       "      <td>16.38</td>\n",
       "      <td>236.49</td>\n",
       "      <td>20.27</td>\n",
       "    </tr>\n",
       "    <tr>\n",
       "      <th>CENN</th>\n",
       "      <td>0.22</td>\n",
       "      <td>14.94</td>\n",
       "      <td>283.33</td>\n",
       "      <td>5.58</td>\n",
       "    </tr>\n",
       "  </tbody>\n",
       "</table>\n",
       "</div>"
      ],
      "text/plain": [
       "            Clustering Coefficient  Edge Distance  Total Bidirectional Links  \\\n",
       "L1    SEEM                    0.08          16.23                      26.62   \n",
       "      RDDA                    0.15           6.69                      94.81   \n",
       "      ERN                     0.03          19.17                       8.38   \n",
       "      REEM                    0.07          16.36                      44.44   \n",
       "      CENN                    0.12          15.11                      95.00   \n",
       "Adult SEEM                    0.19          16.25                     146.76   \n",
       "      RDDA                    0.25           7.58                     288.59   \n",
       "      ERN                     0.07          19.20                      44.84   \n",
       "      REEM                    0.16          16.38                     236.49   \n",
       "      CENN                    0.22          14.94                     283.33   \n",
       "\n",
       "            Average Connectivity  \n",
       "L1    SEEM                  2.12  \n",
       "      RDDA                  2.58  \n",
       "      ERN                   2.89  \n",
       "      REEM                  2.57  \n",
       "      CENN                  1.68  \n",
       "Adult SEEM                 17.00  \n",
       "      RDDA                 20.98  \n",
       "      ERN                  23.08  \n",
       "      REEM                 20.27  \n",
       "      CENN                  5.58  "
      ]
     },
     "execution_count": 20,
     "metadata": {},
     "output_type": "execute_result"
    }
   ],
   "source": [
    "\n",
    "df = pd.DataFrame(data=means, index=index)\n",
    "df.to_excel('data/spreadsheets/data.xlsx')\n",
    "df"
   ]
  },
  {
   "cell_type": "code",
   "execution_count": 21,
   "metadata": {},
   "outputs": [],
   "source": [
    "# texColumns = ['\\\\thead{'+ k.replace(' ', '\\\\\\\\') +'}' for k in means.keys()]\n",
    "texColumns = modelNames\n",
    "dataTex = {texColumns[i]:list(meansL1.values())[i] for i in range(len(texColumns))}\n",
    "dfTex = pd.DataFrame(data=dataTex, index=indexL1)\n",
    "for m in modelNames:\n",
    "    dfTex[m] = dfTex[m].map(lambda x: '%.2f' % x)\n",
    "\n",
    "dfTex.style.to_latex('data/spreadsheets/dataL1.tex', column_format='|p{0.8in}|p{0.4in}|p{0.4in}|p{0.4in}|p{0.4in}|p{0.4in}|', hrules=True, clines='all;data') #clines='skip-last;index'\n",
    "dfTex.style.set_table_styles([\n",
    "    {'selector': 'toprule', 'props': ':hline;'},\n",
    "    # {'selector': 'bottomrule', 'props': ':hline;'}\n",
    "], overwrite=False);"
   ]
  },
  {
   "cell_type": "code",
   "execution_count": 22,
   "metadata": {},
   "outputs": [],
   "source": [
    "texColumns = modelNames\n",
    "dataTex = {texColumns[i]:list(meansAdult.values())[i] for i in range(len(texColumns))}\n",
    "dfTex = pd.DataFrame(data=dataTex, index=indexL5)\n",
    "for m in modelNames:\n",
    "    dfTex[m] = dfTex[m].map(lambda x: '%.2f' % x)\n",
    "\n",
    "dfTex.style.to_latex('data/spreadsheets/dataL5.tex', column_format='|p{0.8in}|p{0.4in}|p{0.4in}|p{0.4in}|p{0.4in}|p{0.4in}|', hrules=True, clines='all;data') #clines='skip-last;index'\n",
    "dfTex.style.set_table_styles([\n",
    "    {'selector': 'toprule', 'props': ':hline;'},\n",
    "    # {'selector': 'bottomrule', 'props': ':hline;'}\n",
    "], overwrite=False);"
   ]
  },
  {
   "attachments": {},
   "cell_type": "markdown",
   "metadata": {},
   "source": [
    "## Violin Plots"
   ]
  },
  {
   "cell_type": "code",
   "execution_count": 49,
   "metadata": {},
   "outputs": [],
   "source": [
    "def set_axis_style(ax, labels):\n",
    "    ax.yaxis.set_tick_params(direction='out')\n",
    "    ax.yaxis.set_ticks_position('left')\n",
    "    ax.set_yticks(np.arange(1, len(labels) + 1), labels=labels, fontsize=9)\n",
    "\n",
    "def listMetric(graphs, metric):\n",
    "    outputs = np.array([])\n",
    "    for g in graphs:\n",
    "        out = metric(g)\n",
    "        outputs = np.append(outputs, out)\n",
    "    return outputs"
   ]
  },
  {
   "cell_type": "code",
   "execution_count": 54,
   "metadata": {},
   "outputs": [],
   "source": [
    "metrics = [nx.average_clustering, avgDistance, biDirectionalLinks]\n",
    "titles = ['Clustering Coefficient', 'Edge Distance (µm)', 'Average Connectivity', 'Bidirectional Links']\n",
    "labels = ['SEEM', 'RDDAM', 'ERN', 'REEM']\n",
    "\n",
    "# TODO: Add Comments\n",
    "def violinPlot():\n",
    "\n",
    "    plt.rcParams.update({'font.size': 9})\n",
    "\n",
    "    figSize = (3.3125, 5.5) #if ticks else (1.25, 4)\n",
    "\n",
    "    fig, axes = plt.subplots(nrows=len(measureNames), ncols=2, figsize=figSize, sharex=False, layout=\"constrained\")\n",
    "    # plt.subplots_adjust(hspace=0, wspace=0)\n",
    "    fig.get_layout_engine().set(w_pad=0.05, h_pad=0.01, hspace=0, wspace=0)\n",
    "\n",
    "    for ax, title, metric in zip(axes, titles, measureNames):\n",
    "        ax[0].set_ylabel(title, fontsize=9)\n",
    "\n",
    "        dataL1 = stats2[metric][:4]\n",
    "        dataAdult = stats2[metric][5:9]\n",
    "\n",
    "        vplot0 = ax[0].violinplot(dataL1, vert=False, widths=1)\n",
    "        vplot1 = ax[1].violinplot(dataAdult, vert=False, widths=1)\n",
    "        for body0, body1, label in zip(vplot0['bodies'], vplot1['bodies'], labels):\n",
    "            body0.set_facecolor(color[label])\n",
    "            body1.set_facecolor(color[label])\n",
    "        ax[0].axvline(x = stats2[metric][4], color = 'r', linestyle = '-', linewidth=1)\n",
    "        for line in stats2[metric][9]:\n",
    "            ax[1].axvline(x = line, color = 'r', linestyle = '-', linewidth=1)\n",
    "\n",
    "        set_axis_style(ax[0], labels)\n",
    "        set_axis_style(ax[1], [])\n",
    "    \n",
    "    axes[0][0].set_title('L1', fontsize=9)\n",
    "    axes[0][1].set_title('Adult', fontsize=9)\n",
    "\n",
    "    plt.savefig(f'data/images/stats/all2.pgf', format='pgf', dpi=300)\n",
    "\n",
    "    # mpl.use('pdf')\n",
    "\n",
    "    plt.show()\n",
    "    plt.clf()"
   ]
  },
  {
   "cell_type": "code",
   "execution_count": 55,
   "metadata": {},
   "outputs": [
    {
     "data": {
      "image/png": "[encoded data removed]",
      "text/plain": [
       "<Figure size 331.25x550 with 8 Axes>"
      ]
     },
     "metadata": {},
     "output_type": "display_data"
    },
    {
     "data": {
      "text/plain": [
       "<Figure size 640x480 with 0 Axes>"
      ]
     },
     "metadata": {},
     "output_type": "display_data"
    }
   ],
   "source": [
    "%store -r SEEM_Array_Witvliet_Rand SEEM_White_Rand\n",
    "\n",
    "graphs_L1 = [SEEM_Array_Witvliet[0], RDDAM_Graphs_W1, rand_Graphs_W1]#, SEEM_Array_Witvliet_Rand[0]]\n",
    "\n",
    "seemAdult = SEEM_Array_Witvliet[6] + SEEM_Array_Witvliet[7] + SEEM_White\n",
    "rddaAdult = RDDAM_Graphs_W7 + RDDAM_Graphs_W8 + RDDAM_Graphs_White\n",
    "randAdult = rand_Graphs_W7 + rand_Graphs_W8 + rand_Graphs_White\n",
    "reemAdult = SEEM_Array_Witvliet_Rand[6] + SEEM_Array_Witvliet_Rand[7] + SEEM_White_Rand\n",
    "\n",
    "graphs_adult = [seemAdult, rddaAdult, randAdult]#, reemAdult]\n",
    "\n",
    "averages_L1 = [G_W1]\n",
    "averages_adult = [G_W7, G_W8, G_White]\n",
    "\n",
    "violinPlot()\n",
    "\n",
    "plt.show()\n",
    "\n",
    "# violinPlot(graphs_adult, averages_adult, 'Adults', ticks=False)"
   ]
  },
  {
   "cell_type": "code",
   "execution_count": null,
   "metadata": {},
   "outputs": [],
   "source": []
  }
 ],
 "metadata": {
  "kernelspec": {
   "display_name": "Python 3",
   "language": "python",
   "name": "python3"
  },
  "language_info": {
   "codemirror_mode": {
    "name": "ipython",
    "version": 3
   },
   "file_extension": ".py",
   "mimetype": "text/x-python",
   "name": "python",
   "nbconvert_exporter": "python",
   "pygments_lexer": "ipython3",
   "version": "3.11.2 (v3.11.2:878ead1ac1, Feb  7 2023, 10:02:41) [Clang 13.0.0 (clang-1300.0.29.30)]"
  },
  "orig_nbformat": 4,
  "vscode": {
   "interpreter": {
    "hash": "aee8b7b246df8f9039afb4144a1f6fd8d2ca17a180786b69acc140d282b71a49"
   }
  }
 },
 "nbformat": 4,
 "nbformat_minor": 2
}
