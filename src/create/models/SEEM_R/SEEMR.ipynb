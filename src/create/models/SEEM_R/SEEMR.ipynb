{
 "cells": [
  {
   "cell_type": "code",
   "execution_count": 13,
   "metadata": {},
   "outputs": [],
   "source": [
    "import networkx as nx\n",
    "import numpy as np\n",
    "from sympy import Point3D, Ray3D, Line3D, Plane\n",
    "from scipy.spatial.distance import euclidean, sqeuclidean\n",
    "\n",
    "from lib.positions import coordArr\n",
    "from lib.geometry import closestPoints, createBoundingBox, testBoundingBox, getBoundingPoint\n",
    "from lib.neurites import findSEEMNeurites, EPSILON\n",
    "from lib.graphs import G_Kaiser, G_White, G_Witvliet"
   ]
  },
  {
   "cell_type": "code",
   "execution_count": 19,
   "metadata": {},
   "outputs": [
    {
     "name": "stdout",
     "output_type": "stream",
     "text": [
      "Stored 'neurites' (dict)\n"
     ]
    }
   ],
   "source": [
    "neurites = findSEEMNeurites(random=True)\n",
    "%store neurites_random"
   ]
  },
  {
   "cell_type": "code",
   "execution_count": 20,
   "metadata": {},
   "outputs": [],
   "source": [
    "%store -r neurites_random\n",
    "\n",
    "def createSEEM_FC_Graph():\n",
    "  G = nx.read_gexf('data/kaiser/131/compiled/xyzp.gexf')\n",
    "  G_new= nx.create_empty_copy(G)\n",
    "\n",
    "  maxDistance = MICRON\n",
    "  neuron_neurite_Tuples = neurites.items()\n",
    "  for neuron1, neurite1 in neuron_neurite_Tuples:\n",
    "    for neuron2, neurite2 in neuron_neurite_Tuples:\n",
    "      if (neuron1 != neuron2): \n",
    "        dist = closestPoints(neurite1,neurite2)[2]\n",
    "        if (dist <= maxDistance):\n",
    "          coord1 = getCoordinates(G.nodes[neuron1])\n",
    "          coord2 = getCoordinates(G.nodes[neuron2])\n",
    "          distance = euclidean(coord1, coord2)\n",
    "          G_new.add_edge(neuron1, neuron2, distance=distance)\n",
    "  print('Number of Edges in Fully Connected SEEM Graph:',G_new.number_of_edges())\n",
    "  nx.write_gexf(G_new, 'data/kaiser/131/compiled/rand/xyzp_d_SEEM_FC.gexf')\n",
    "  return G_new"
   ]
  },
  {
   "cell_type": "code",
   "execution_count": 21,
   "metadata": {},
   "outputs": [
    {
     "name": "stdout",
     "output_type": "stream",
     "text": [
      "Number of Edges in Fully Connected SEEM Graph: 11580\n"
     ]
    },
    {
     "name": "stderr",
     "output_type": "stream",
     "text": [
      "UsageError: Unknown variable 'G_SEEM_FC_Rand'\n"
     ]
    }
   ],
   "source": [
    "G_SEEM_FC = createSEEM_FC_Graph()\n",
    "%store G_SEEM_FC_Rand"
   ]
  },
  {
   "cell_type": "code",
   "execution_count": 22,
   "metadata": {},
   "outputs": [],
   "source": [
    "def seemInstance(edgeCount):\n",
    "  if G_SEEM_FC.number_of_edges() < edgeCount:\n",
    "    print('ERROR: edge count too high')\n",
    "    return False\n",
    "\n",
    "  rng = np.random.default_rng()\n",
    "  keptEdges = rng.choice(list(G_SEEM_FC.edges().data()), size=edgeCount, replace=False)\n",
    "  \n",
    "  G = nx.create_empty_copy(G_SEEM_FC)\n",
    "\n",
    "  G.add_edges_from(keptEdges)\n",
    "\n",
    "  return G\n",
    "\n",
    "def generateInstances(edgeCount, n):\n",
    "  return [seemInstance(edgeCount) for i in range(n)]"
   ]
  },
  {
   "cell_type": "code",
   "execution_count": 23,
   "metadata": {},
   "outputs": [
    {
     "name": "stdout",
     "output_type": "stream",
     "text": [
      "Stored 'SEEM_Kaiser' (list)\n",
      "Stored 'SEEM_White' (list)\n",
      "Stored 'SEEM_Array_Witvliet' (list)\n"
     ]
    }
   ],
   "source": [
    "def SEEM(dir, n):\n",
    "  G = nx.read_gexf(dir)\n",
    "  edgeCount = G.number_of_edges()\n",
    "  SEEM_G = generateInstances(edgeCount, n)\n",
    "  return SEEM_G"
   ]
  },
  {
   "cell_type": "code",
   "execution_count": 24,
   "metadata": {},
   "outputs": [
    {
     "name": "stdout",
     "output_type": "stream",
     "text": [
      "Stored 'SEEM_Kaiser' (list)\n",
      "Stored 'SEEM_White' (list)\n",
      "Stored 'SEEM_Array_Witvliet' (list)\n"
     ]
    }
   ],
   "source": [
    "n = 1000\n",
    "# Generate n instances of the SEEM graph for Kaiser et al. Graph\n",
    "SEEM_Kaiser_Rand = SEEM(G_Kaiser, n)\n",
    "%store SEEM_Kaiser_Rand\n",
    "\n",
    "# Generate n instances of the SEEM graph for White et al. N2U Graph\n",
    "SEEM_White_Rand = SEEM(G_White, n)\n",
    "%store SEEM_White_Rand\n",
    "\n",
    "# Generate n instances of the SEEM graph for all 9 Witvliet et al. Graphs\n",
    "SEEM_Array_Witvliet_Rand = [SEEM(G_Witvliet[i], n) for i in range(8)]\n",
    "%store SEEM_Array_Witvliet_Rand"
   ]
  }
 ],
 "metadata": {
  "kernelspec": {
   "display_name": "Python 3",
   "language": "python",
   "name": "python3"
  },
  "language_info": {
   "codemirror_mode": {
    "name": "ipython",
    "version": 3
   },
   "file_extension": ".py",
   "mimetype": "text/x-python",
   "name": "python",
   "nbconvert_exporter": "python",
   "pygments_lexer": "ipython3",
   "version": "3.9.6 (default, Oct 18 2022, 12:41:40) \n[Clang 14.0.0 (clang-1400.0.29.202)]"
  },
  "orig_nbformat": 4,
  "vscode": {
   "interpreter": {
    "hash": "31f2aee4e71d21fbe5cf8b01ff0e069b9275f58929596ceb00d14d90e3e16cd6"
   }
  }
 },
 "nbformat": 4,
 "nbformat_minor": 2
}
