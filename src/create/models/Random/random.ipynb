{
 "cells": [
  {
   "cell_type": "code",
   "execution_count": 1,
   "metadata": {},
   "outputs": [],
   "source": [
    "import networkx as nx\n",
    "import numpy as np\n",
    "from scipy.spatial.distance import euclidean\n",
    "from lib.positions import coordArr"
   ]
  },
  {
   "cell_type": "code",
   "execution_count": 2,
   "metadata": {},
   "outputs": [],
   "source": [
    "from lib.graphs import G_Witvliet, G_White, getCleanGraph\n",
    "G_W1 = G_Witvliet[0]\n",
    "G_W7 = G_Witvliet[6]\n",
    "G_W8 = G_Witvliet[7]\n",
    "\n",
    "G_clean = getCleanGraph()"
   ]
  },
  {
   "cell_type": "code",
   "execution_count": 3,
   "metadata": {},
   "outputs": [],
   "source": [
    "def randomGraph(n, e):\n",
    "  return nx.erdos_renyi_graph(n=n, p=(e/(n*(n-1))), directed=True)"
   ]
  },
  {
   "cell_type": "code",
   "execution_count": 4,
   "metadata": {},
   "outputs": [],
   "source": [
    "def getDistance(G, i, j):\n",
    "  node_i, node_j = G.nodes[i], G.nodes[j]\n",
    "  pos_i, pos_j = coordArr(node_i), coordArr(node_j)\n",
    "  return euclidean(pos_i, pos_j)"
   ]
  },
  {
   "cell_type": "code",
   "execution_count": 5,
   "metadata": {},
   "outputs": [],
   "source": [
    "def embeddedGraph(G):\n",
    "  g_rand = randomGraph(G.number_of_nodes(), G.number_of_edges())\n",
    "  G_clean = nx.create_empty_copy(G)\n",
    "\n",
    "  nodeList = list(G_clean.nodes().keys())\n",
    "\n",
    "  for i, n in enumerate(G_clean.nodes()):\n",
    "    for e in g_rand.out_edges(nbunch=i):\n",
    "      m = nodeList[e[1]]\n",
    "      dist = getDistance(G_clean, n, m)\n",
    "      G_clean.add_edge(n,m, distance=dist)\n",
    "\n",
    "  return G_clean"
   ]
  },
  {
   "cell_type": "code",
   "execution_count": 6,
   "metadata": {},
   "outputs": [],
   "source": [
    "def randSamples(G, runs):\n",
    "  rand_Graphs = []\n",
    "  for i in range(runs):\n",
    "    g = embeddedGraph(G)\n",
    "    rand_Graphs.append(g)\n",
    "  return rand_Graphs"
   ]
  },
  {
   "cell_type": "code",
   "execution_count": 7,
   "metadata": {},
   "outputs": [
    {
     "name": "stdout",
     "output_type": "stream",
     "text": [
      "Stored 'rand_Graphs_W1' (list)\n",
      "Stored 'rand_Graphs_W8' (list)\n"
     ]
    }
   ],
   "source": [
    "n = 100\n",
    "\n",
    "rand_Graphs_W8 = randSamples(G_W8, n)\n",
    "rand_Graphs_W1 = randSamples(G_W1, n)\n",
    "%store rand_Graphs_W1\n",
    "%store rand_Graphs_W8"
   ]
  },
  {
   "cell_type": "code",
   "execution_count": 8,
   "metadata": {},
   "outputs": [
    {
     "name": "stdout",
     "output_type": "stream",
     "text": [
      "Stored 'rand_Graphs_W7' (list)\n",
      "Stored 'rand_Graphs_White' (list)\n"
     ]
    }
   ],
   "source": [
    "n = 100\\\n",
    "rand_Graphs_W7 = randSamples(G_W7, n)\n",
    "rand_Graphs_White = randSamples(G_White, n)\n",
    "%store rand_Graphs_W7\n",
    "%store rand_Graphs_White"
   ]
  }
 ],
 "metadata": {
  "kernelspec": {
   "display_name": "Python 3",
   "language": "python",
   "name": "python3"
  },
  "language_info": {
   "codemirror_mode": {
    "name": "ipython",
    "version": 3
   },
   "file_extension": ".py",
   "mimetype": "text/x-python",
   "name": "python",
   "nbconvert_exporter": "python",
   "pygments_lexer": "ipython3",
   "version": "3.11.2 (v3.11.2:878ead1ac1, Feb  7 2023, 10:02:41) [Clang 13.0.0 (clang-1300.0.29.30)]"
  },
  "orig_nbformat": 4,
  "vscode": {
   "interpreter": {
    "hash": "aee8b7b246df8f9039afb4144a1f6fd8d2ca17a180786b69acc140d282b71a49"
   }
  }
 },
 "nbformat": 4,
 "nbformat_minor": 2
}
