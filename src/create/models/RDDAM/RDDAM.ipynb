{
 "cells": [
  {
   "attachments": {},
   "cell_type": "markdown",
   "metadata": {},
   "source": [
    "<h1>Random Distance Dependent Attachment Model</h1>"
   ]
  },
  {
   "cell_type": "code",
   "execution_count": 1,
   "metadata": {},
   "outputs": [],
   "source": [
    "import networkx as nx\n",
    "import numpy as np\n",
    "import csv\n",
    "from scipy.spatial.distance import euclidean\n",
    "from lib.positions import coordArr\n",
    "from lib.geometry import edgeLength"
   ]
  },
  {
   "cell_type": "code",
   "execution_count": 2,
   "metadata": {},
   "outputs": [],
   "source": [
    "from lib.graphs import G_Witvliet, G_White, getCleanGraph\n",
    "G_W1 = G_Witvliet[0]\n",
    "G_W7 = G_Witvliet[6]\n",
    "G_W8 = G_Witvliet[7]\n",
    "\n",
    "G_clean = getCleanGraph()"
   ]
  },
  {
   "cell_type": "markdown",
   "metadata": {},
   "source": [
    "- function\n",
    "  takes in dict of node names and locations\n",
    "  takes in c and alpha\n",
    "  for each node, for each node, if nodes are not same, if rand > c*(d**-alpha)\n",
    "\n",
    "- function: distance"
   ]
  },
  {
   "cell_type": "code",
   "execution_count": 3,
   "metadata": {},
   "outputs": [],
   "source": [
    "def probRDDA(c, dist, alpha):\n",
    "    return c*(dist**(-alpha))"
   ]
  },
  {
   "cell_type": "code",
   "execution_count": 4,
   "metadata": {},
   "outputs": [],
   "source": [
    "def makeConnections(G, c, alpha, dims=3):\n",
    "  G_clean = nx.create_empty_copy(G)\n",
    "  for i in G_clean:\n",
    "    for j in G_clean:\n",
    "      if (i != j):\n",
    "        dist = edgeLength(G_clean, i, j)\n",
    "        if (np.random.rand() < probRDDA(c, dist, alpha)):\n",
    "          G_clean.add_edge(i,j,distance=dist)\n",
    "  return G_clean\n"
   ]
  },
  {
   "cell_type": "code",
   "execution_count": 5,
   "metadata": {},
   "outputs": [],
   "source": [
    "# TODO: Run optimize function instead of this\n",
    "def findRDDAMValues(G, startC, edgeCount, threshold, n=10, dims=3):\n",
    "  alpha = 2.5\n",
    "  c = startC\n",
    "  found = False\n",
    "  while not found:\n",
    "    Graphs = []\n",
    "    nEdges = 0\n",
    "    for i in range(n):\n",
    "      newG = makeConnections(G, c, alpha, dims)\n",
    "      Graphs.append(newG)\n",
    "      nEdges += newG.number_of_edges()\n",
    "    if (abs(nEdges/float(n) - edgeCount) < threshold):\n",
    "      found = True\n",
    "    elif (nEdges/float(n) > edgeCount):\n",
    "      c -= 0.1\n",
    "    else:\n",
    "      c += 0.1\n",
    "  return c"
   ]
  },
  {
   "cell_type": "code",
   "execution_count": 6,
   "metadata": {},
   "outputs": [],
   "source": [
    "def RDDA(G, n, dims=3):\n",
    "  c = findRDDAMValues(G, 1, G.number_of_edges(), 5, dims=dims)\n",
    "  print('c:',c)\n",
    "  G_clean = nx.create_empty_copy(G)\n",
    "  alpha = 2.5\n",
    "  nEdges = 0\n",
    "  RDDAM_Graphs = []\n",
    "  for i in range(n):\n",
    "    newG = makeConnections(G_clean, c, alpha, dims)\n",
    "    RDDAM_Graphs.append(newG)\n",
    "    nEdges += newG.number_of_edges()\n",
    "  print('Average edge count:',nEdges/float(n),', c:',c)\n",
    "  return RDDAM_Graphs\n"
   ]
  },
  {
   "cell_type": "code",
   "execution_count": 7,
   "metadata": {},
   "outputs": [
    {
     "name": "stdout",
     "output_type": "stream",
     "text": [
      "c: 28.900000000000144\n",
      "Average edge count: 1317.99 , c: 28.900000000000144\n",
      "c: 9.299999999999985\n",
      "Average edge count: 533.64 , c: 9.299999999999985\n"
     ]
    }
   ],
   "source": [
    "n = 100\n",
    "RDDAM_Graphs_W8 = RDDA(G_W8,n)\n",
    "RDDAM_Graphs_W1 = RDDA(G_W1,n)"
   ]
  },
  {
   "cell_type": "code",
   "execution_count": 8,
   "metadata": {},
   "outputs": [
    {
     "name": "stdout",
     "output_type": "stream",
     "text": [
      "Stored 'RDDAM_Graphs_W1' (list)\n",
      "Stored 'RDDAM_Graphs_W8' (list)\n"
     ]
    }
   ],
   "source": [
    "%store RDDAM_Graphs_W1\n",
    "%store RDDAM_Graphs_W8"
   ]
  },
  {
   "cell_type": "code",
   "execution_count": 9,
   "metadata": {},
   "outputs": [
    {
     "name": "stdout",
     "output_type": "stream",
     "text": [
      "c: 28.60000000000014\n",
      "Average edge count: 1314.41 , c: 28.60000000000014\n",
      "c: 19.800000000000015\n",
      "Average edge count: 989.96 , c: 19.800000000000015\n"
     ]
    }
   ],
   "source": [
    "n = 100\n",
    "RDDAM_Graphs_W7 = RDDA(G_W7,n)\n",
    "RDDAM_Graphs_White = RDDA(G_White,n)"
   ]
  },
  {
   "cell_type": "code",
   "execution_count": 10,
   "metadata": {},
   "outputs": [
    {
     "name": "stdout",
     "output_type": "stream",
     "text": [
      "Stored 'RDDAM_Graphs_W7' (list)\n",
      "Stored 'RDDAM_Graphs_White' (list)\n"
     ]
    }
   ],
   "source": [
    "%store RDDAM_Graphs_W7\n",
    "%store RDDAM_Graphs_White"
   ]
  },
  {
   "cell_type": "code",
   "execution_count": null,
   "metadata": {},
   "outputs": [],
   "source": []
  }
 ],
 "metadata": {
  "kernelspec": {
   "display_name": "Python 3",
   "language": "python",
   "name": "python3"
  },
  "language_info": {
   "codemirror_mode": {
    "name": "ipython",
    "version": 3
   },
   "file_extension": ".py",
   "mimetype": "text/x-python",
   "name": "python",
   "nbconvert_exporter": "python",
   "pygments_lexer": "ipython3",
   "version": "3.11.2 (v3.11.2:878ead1ac1, Feb  7 2023, 10:02:41) [Clang 13.0.0 (clang-1300.0.29.30)]"
  },
  "orig_nbformat": 4,
  "vscode": {
   "interpreter": {
    "hash": "aee8b7b246df8f9039afb4144a1f6fd8d2ca17a180786b69acc140d282b71a49"
   }
  }
 },
 "nbformat": 4,
 "nbformat_minor": 2
}
