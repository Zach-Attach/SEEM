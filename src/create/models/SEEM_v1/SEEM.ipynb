{
 "cells": [
  {
   "attachments": {},
   "cell_type": "markdown",
   "metadata": {},
   "source": [
    "<h1>Spatially Embedded Edge Model</h1>"
   ]
  },
  {
   "cell_type": "code",
   "execution_count": 1,
   "metadata": {},
   "outputs": [],
   "source": [
    "import networkx as nx\n",
    "from numpy import random\n",
    "\n",
    "from lib.geometry import closestPoints, edgeLength\n",
    "from lib.neurites import findSEEMNeurites, EPSILON\n",
    "from lib.graphs import G_Kaiser, G_White, G_Witvliet, getCleanGraph"
   ]
  },
  {
   "cell_type": "code",
   "execution_count": 2,
   "metadata": {},
   "outputs": [
    {
     "name": "stdout",
     "output_type": "stream",
     "text": [
      "Stored 'neurites' (dict)\n"
     ]
    }
   ],
   "source": [
    "neurites = findSEEMNeurites()\n",
    "%store neurites"
   ]
  },
  {
   "cell_type": "code",
   "execution_count": 3,
   "metadata": {},
   "outputs": [],
   "source": [
    "def fullyConnectedGraph(neurites):\n",
    "  G = getCleanGraph()\n",
    "\n",
    "  maxDistance = EPSILON\n",
    "  neuron_neurite_Tuples = neurites.items()\n",
    "\n",
    "  for neuron1, neurite1 in neuron_neurite_Tuples:\n",
    "    for neuron2, neurite2 in neuron_neurite_Tuples:\n",
    "      if (neuron1 != neuron2): \n",
    "        dist = closestPoints(neurite1, neurite2)[2]\n",
    "        if (dist <= maxDistance):\n",
    "          distance = edgeLength(G, neuron1, neuron2)\n",
    "          G.add_edge(neuron1, neuron2, distance=distance)\n",
    "  print('Number of Edges in Fully Connected SEEM Graph:',G.number_of_edges())\n",
    "  nx.write_gexf(G, 'data/kaiser/131/compiled/xyzp_d_SEEM_FC.gexf')\n",
    "  return G"
   ]
  },
  {
   "cell_type": "code",
   "execution_count": 4,
   "metadata": {},
   "outputs": [],
   "source": [
    "def seemInstance(edgeCount, FC_Graph):\n",
    "  if FC_Graph.number_of_edges() < edgeCount:\n",
    "    print('ERROR: edge count too high')\n",
    "    return False\n",
    "\n",
    "  rng = random.default_rng()\n",
    "  keptEdges = rng.choice(list(FC_Graph.edges().data()), size=edgeCount, replace=False)\n",
    "  \n",
    "  G = nx.create_empty_copy(FC_Graph)\n",
    "\n",
    "  G.add_edges_from(keptEdges)\n",
    "\n",
    "  return G\n",
    "\n",
    "def generateInstances(edgeCount, n, FC_Graph):\n",
    "  return [seemInstance(edgeCount, FC_Graph) for i in range(n)]"
   ]
  },
  {
   "cell_type": "code",
   "execution_count": 5,
   "metadata": {},
   "outputs": [],
   "source": [
    "def SEEM(G, n, FC_Graph):\n",
    "  edgeCount = G.number_of_edges()\n",
    "  SEEM_G = generateInstances(edgeCount, n, FC_Graph)\n",
    "  return SEEM_G"
   ]
  },
  {
   "cell_type": "code",
   "execution_count": 6,
   "metadata": {},
   "outputs": [
    {
     "name": "stdout",
     "output_type": "stream",
     "text": [
      "Number of Edges in Fully Connected SEEM Graph: 6744\n",
      "Stored 'G_SEEM_FC' (DiGraph)\n"
     ]
    }
   ],
   "source": [
    "%store -r neurites\n",
    "\n",
    "G_SEEM_FC = fullyConnectedGraph(neurites)\n",
    "%store G_SEEM_FC"
   ]
  },
  {
   "cell_type": "code",
   "execution_count": 7,
   "metadata": {},
   "outputs": [
    {
     "name": "stdout",
     "output_type": "stream",
     "text": [
      "Stored 'SEEM_Kaiser' (list)\n",
      "Stored 'SEEM_White' (list)\n",
      "Stored 'SEEM_Array_Witvliet' (list)\n"
     ]
    }
   ],
   "source": [
    "%store -r G_SEEM_FC\n",
    "\n",
    "n = 1000\n",
    "# Generate n instances of the SEEM graph for Kaiser et al. Graph\n",
    "SEEM_Kaiser = SEEM(G_Kaiser, n, G_SEEM_FC)\n",
    "%store SEEM_Kaiser\n",
    "\n",
    "# Generate n instances of the SEEM graph for White et al. N2U Graph\n",
    "SEEM_White = SEEM(G_White, n, G_SEEM_FC)\n",
    "%store SEEM_White\n",
    "\n",
    "# Generate n instances of the SEEM graph for all 9 Witvliet et al. Graphs\n",
    "SEEM_Array_Witvliet = [SEEM(G_Witvliet[i], n, G_SEEM_FC) for i in range(8)]\n",
    "%store SEEM_Array_Witvliet"
   ]
  },
  {
   "attachments": {},
   "cell_type": "markdown",
   "metadata": {},
   "source": [
    "# Random Neurites"
   ]
  },
  {
   "cell_type": "code",
   "execution_count": 8,
   "metadata": {},
   "outputs": [
    {
     "name": "stdout",
     "output_type": "stream",
     "text": [
      "Stored 'neurites_random' (dict)\n"
     ]
    }
   ],
   "source": [
    "neurites_random = findSEEMNeurites(random=True)\n",
    "%store neurites_random"
   ]
  },
  {
   "cell_type": "code",
   "execution_count": 9,
   "metadata": {},
   "outputs": [
    {
     "name": "stdout",
     "output_type": "stream",
     "text": [
      "Number of Edges in Fully Connected SEEM Graph: 5310\n",
      "Stored 'G_SEEM_FC_Random' (DiGraph)\n"
     ]
    }
   ],
   "source": [
    "%store -r neurites_random\n",
    "\n",
    "G_SEEM_FC_Random = fullyConnectedGraph(neurites_random)\n",
    "%store G_SEEM_FC_Random"
   ]
  },
  {
   "cell_type": "code",
   "execution_count": 10,
   "metadata": {},
   "outputs": [
    {
     "name": "stdout",
     "output_type": "stream",
     "text": [
      "Stored 'SEEM_Kaiser_Rand' (list)\n",
      "Stored 'SEEM_White_Rand' (list)\n",
      "Stored 'SEEM_Array_Witvliet_Rand' (list)\n"
     ]
    }
   ],
   "source": [
    "%store -r G_SEEM_FC_Random\n",
    "\n",
    "n = 1000\n",
    "# Generate n instances of the SEEM graph for Kaiser et al. Graph\n",
    "SEEM_Kaiser_Rand = SEEM(G_Kaiser, n, G_SEEM_FC_Random)\n",
    "%store SEEM_Kaiser_Rand\n",
    "\n",
    "# Generate n instances of the SEEM graph for White et al. N2U Graph\n",
    "SEEM_White_Rand = SEEM(G_White, n, G_SEEM_FC_Random)\n",
    "%store SEEM_White_Rand\n",
    "\n",
    "# Generate n instances of the SEEM graph for all 9 Witvliet et al. Graphs\n",
    "SEEM_Array_Witvliet_Rand = [SEEM(G_Witvliet[i], n, G_SEEM_FC_Random) for i in range(8)]\n",
    "%store SEEM_Array_Witvliet_Rand\n"
   ]
  }
 ],
 "metadata": {
  "kernelspec": {
   "display_name": "Python 3",
   "language": "python",
   "name": "python3"
  },
  "language_info": {
   "codemirror_mode": {
    "name": "ipython",
    "version": 3
   },
   "file_extension": ".py",
   "mimetype": "text/x-python",
   "name": "python",
   "nbconvert_exporter": "python",
   "pygments_lexer": "ipython3",
   "version": "3.11.1 (v3.11.1:a7a450f84a, Dec  6 2022, 15:24:06) [Clang 13.0.0 (clang-1300.0.29.30)]"
  },
  "orig_nbformat": 4,
  "vscode": {
   "interpreter": {
    "hash": "aee8b7b246df8f9039afb4144a1f6fd8d2ca17a180786b69acc140d282b71a49"
   }
  }
 },
 "nbformat": 4,
 "nbformat_minor": 2
}
