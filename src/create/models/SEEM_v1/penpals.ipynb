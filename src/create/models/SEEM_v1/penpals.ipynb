{
 "cells": [
  {
   "cell_type": "markdown",
   "metadata": {},
   "source": [
    "# Compute Penpals"
   ]
  },
  {
   "cell_type": "code",
   "execution_count": 1,
   "metadata": {},
   "outputs": [],
   "source": [
    "import networkx as nx\n",
    "import numpy as np\n",
    "from scipy.spatial.distance import cdist\n",
    "from lib.positions import coordArr"
   ]
  },
  {
   "cell_type": "code",
   "execution_count": 2,
   "metadata": {},
   "outputs": [],
   "source": [
    "NR_xVal = 44 # the x-value at which the nerve ring segments the neurons\n",
    "# determined by the x coordinate of RMEV, being 44.66 and posterior to the nerve ring\n",
    "# TODO: use x and y coordinates to determine never ring location\n",
    "# NOTE: Given thickness of nerve ring, x direction alone should be sufficient\n",
    "# NOTE: New spatial data places RID on the posterior side of the nerve ring, may need to update how nerve ring is calculated as a result\n",
    "\n",
    "def neuriteDirection(xPos):\n",
    "  return 'tail' if (xPos < NR_xVal) else 'head'\n",
    "\n",
    "# returns the list locations of the penpals for the head-facing neurons\n",
    "# and the list locations of the penpals for the tail-facing neurons\n",
    "def closestPenPals(L, R):\n",
    "  distMatrix = cdist(L, R, 'sqeuclidean')\n",
    "  return np.argmin(distMatrix, axis=1), np.argmin(distMatrix, axis=0)\n",
    "\n",
    "# takes the ordered list of penpals and outputs a dictionary which labels the key as the first node and the value as the penpal\n",
    "def labelPenPals(matchings, group1, group2):\n",
    "  pals = {}\n",
    "  for i,j in enumerate(matchings):\n",
    "    label = group1[i]['label']\n",
    "    label_penpal = group2[j]['label']\n",
    "    pals[label] = label_penpal\n",
    "  return pals\n",
    "\n",
    "def findPenPals(G):\n",
    "  penpals = {}\n",
    "  segments = {'head':[],'tail':[]}\n",
    "  coords = {'head':[],'tail':[]}\n",
    "\n",
    "  for _,n in G.nodes(True):\n",
    "    dir = neuriteDirection(n['x'])\n",
    "    segments[dir].append(n)\n",
    "    coords[dir].append(coordArr(n))\n",
    "\n",
    "  penpals_head, penpals_tail = closestPenPals(coords['head'], coords['tail'])\n",
    "\n",
    "  # merges the penpal dictionaries for both head and tail \n",
    "  penpals = labelPenPals(penpals_head, segments['head'], segments['tail']) |\\\n",
    "    labelPenPals(penpals_tail, segments['tail'], segments['head'])\n",
    "\n",
    "  nx.set_node_attributes(G, penpals, 'PenPal')"
   ]
  },
  {
   "cell_type": "code",
   "execution_count": 3,
   "metadata": {},
   "outputs": [],
   "source": [
    "def createPenPalGraph(folder):\n",
    "  G = nx.read_gexf(f'{folder}/original/xyz.gexf')\n",
    "  G_clean = nx.create_empty_copy(G)\n",
    "\n",
    "  findPenPals(G_clean)\n",
    "  nx.write_gexf(G_clean, f'{folder}/compiled/xyzp.gexf')\n",
    "\n",
    "  for k,n in G_clean.nodes(True):\n",
    "    G_clean.add_edge(k, n['PenPal'])\n",
    "  nx.write_gexf(G_clean, f'{folder}/compiled/penpalSubgraph.gexf')"
   ]
  },
  {
   "cell_type": "code",
   "execution_count": 4,
   "metadata": {},
   "outputs": [],
   "source": [
    "createPenPalGraph('data/kaiser/131')"
   ]
  },
  {
   "cell_type": "code",
   "execution_count": 4,
   "metadata": {},
   "outputs": [],
   "source": [
    "createPenPalGraph('data/white/N2U')"
   ]
  },
  {
   "cell_type": "code",
   "execution_count": 5,
   "metadata": {},
   "outputs": [],
   "source": [
    "for i in range(1,9):\n",
    "  createPenPalGraph(f'data/witvliet/d{i}')"
   ]
  }
 ],
 "metadata": {
  "kernelspec": {
   "display_name": "Python 3",
   "language": "python",
   "name": "python3"
  },
  "language_info": {
   "codemirror_mode": {
    "name": "ipython",
    "version": 3
   },
   "file_extension": ".py",
   "mimetype": "text/x-python",
   "name": "python",
   "nbconvert_exporter": "python",
   "pygments_lexer": "ipython3",
   "version": "3.9.6 (default, Oct 18 2022, 12:41:40) \n[Clang 14.0.0 (clang-1400.0.29.202)]"
  },
  "orig_nbformat": 4,
  "vscode": {
   "interpreter": {
    "hash": "31f2aee4e71d21fbe5cf8b01ff0e069b9275f58929596ceb00d14d90e3e16cd6"
   }
  }
 },
 "nbformat": 4,
 "nbformat_minor": 2
}
