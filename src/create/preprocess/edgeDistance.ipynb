{
 "cells": [
  {
   "cell_type": "markdown",
   "metadata": {},
   "source": [
    "# Add the distance of each edge"
   ]
  },
  {
   "cell_type": "markdown",
   "metadata": {},
   "source": [
    "Estimate Radius of C. Elegans neural cross-section"
   ]
  },
  {
   "cell_type": "code",
   "execution_count": 23,
   "metadata": {},
   "outputs": [],
   "source": [
    "import networkx as nx\n",
    "import numpy as np\n",
    "from lib.geometry import edgeLength"
   ]
  },
  {
   "cell_type": "code",
   "execution_count": 24,
   "metadata": {},
   "outputs": [],
   "source": [
    "def edgeDistDict(G):\n",
    "  return {(n,m): edgeLength(G,n,m) for (n,m) in G.edges()}"
   ]
  },
  {
   "cell_type": "code",
   "execution_count": 25,
   "metadata": {},
   "outputs": [],
   "source": [
    "def createDistanceGraph(dir, filename):\n",
    "  G = nx.read_gexf(f'{dir}/{filename}.gexf')\n",
    "  edgeDistances = edgeDistDict(G)\n",
    "  nx.set_edge_attributes(G, edgeDistances, name='distance')\n",
    "  nx.write_gexf(G, f'{dir}/{filename}_d.gexf')\n"
   ]
  },
  {
   "cell_type": "code",
   "execution_count": 26,
   "metadata": {},
   "outputs": [],
   "source": [
    "createDistanceGraph(f'data/kaiser/131/original','xyz')"
   ]
  },
  {
   "cell_type": "code",
   "execution_count": 27,
   "metadata": {},
   "outputs": [],
   "source": [
    "createDistanceGraph(f'data/white/N2U/original','xyz')"
   ]
  },
  {
   "cell_type": "code",
   "execution_count": 28,
   "metadata": {},
   "outputs": [],
   "source": [
    "for i in range(1,9):\n",
    "  createDistanceGraph(f'data/witvliet/d{i}/original', 'xyz')"
   ]
  },
  {
   "cell_type": "markdown",
   "metadata": {},
   "source": [
    "### This should be done after overlap.ipynb"
   ]
  },
  {
   "cell_type": "code",
   "execution_count": 29,
   "metadata": {},
   "outputs": [],
   "source": [
    "%store -r G_overlap_W7_W8\n",
    "%store -r G_overlap_W7_White\n",
    "%store -r G_overlap_W8_White\n",
    "%store -r G_overlap_W7_W8_White\n",
    "%store -r G_unique_W7\n",
    "%store -r G_unique_W8\n",
    "%store -r G_unique_White"
   ]
  },
  {
   "cell_type": "code",
   "execution_count": 30,
   "metadata": {},
   "outputs": [
    {
     "name": "stdout",
     "output_type": "stream",
     "text": [
      "Stored 'G_overlap_W7_W8' (DiGraph)\n",
      "Stored 'G_overlap_W7_White' (DiGraph)\n",
      "Stored 'G_overlap_W8_White' (DiGraph)\n",
      "Stored 'G_overlap_W7_W8_White' (DiGraph)\n",
      "Stored 'G_unique_W7' (DiGraph)\n",
      "Stored 'G_unique_W8' (DiGraph)\n",
      "Stored 'G_unique_White' (DiGraph)\n"
     ]
    }
   ],
   "source": [
    "def addEdgeDistances(G):\n",
    "  edgeDistances = edgeDistDict(G)\n",
    "  nx.set_edge_attributes(G, edgeDistances, name='distance')\n",
    "  return G\n",
    "\n",
    "G_overlap_W7_W8 = addEdgeDistances(G_overlap_W7_W8)\n",
    "G_overlap_W7_White = addEdgeDistances(G_overlap_W7_White)\n",
    "G_overlap_W8_White = addEdgeDistances(G_overlap_W8_White)\n",
    "G_overlap_W7_W8 = addEdgeDistances(G_overlap_W7_W8_White)\n",
    "G_unique_W7 = addEdgeDistances(G_unique_W7)\n",
    "G_unique_W8 = addEdgeDistances(G_unique_W8)\n",
    "G_unique_White = addEdgeDistances(G_unique_White)\n",
    "\n",
    "%store G_overlap_W7_W8\n",
    "%store G_overlap_W7_White\n",
    "%store G_overlap_W8_White\n",
    "%store G_overlap_W7_W8_White\n",
    "%store G_unique_W7\n",
    "%store G_unique_W8\n",
    "%store G_unique_White"
   ]
  },
  {
   "cell_type": "code",
   "execution_count": null,
   "metadata": {},
   "outputs": [],
   "source": []
  }
 ],
 "metadata": {
  "kernelspec": {
   "display_name": "Python 3",
   "language": "python",
   "name": "python3"
  },
  "language_info": {
   "codemirror_mode": {
    "name": "ipython",
    "version": 3
   },
   "file_extension": ".py",
   "mimetype": "text/x-python",
   "name": "python",
   "nbconvert_exporter": "python",
   "pygments_lexer": "ipython3",
   "version": "3.9.6 (default, Oct 18 2022, 12:41:40) \n[Clang 14.0.0 (clang-1400.0.29.202)]"
  },
  "orig_nbformat": 4,
  "vscode": {
   "interpreter": {
    "hash": "31f2aee4e71d21fbe5cf8b01ff0e069b9275f58929596ceb00d14d90e3e16cd6"
   }
  }
 },
 "nbformat": 4,
 "nbformat_minor": 2
}
