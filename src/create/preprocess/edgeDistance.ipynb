{
 "cells": [
  {
   "cell_type": "markdown",
   "metadata": {},
   "source": [
    "# Add the distance of each edge"
   ]
  },
  {
   "cell_type": "markdown",
   "metadata": {},
   "source": [
    "Estimate Radius of C. Elegans neural cross-section"
   ]
  },
  {
   "cell_type": "code",
   "execution_count": 1,
   "metadata": {},
   "outputs": [],
   "source": [
    "import networkx as nx\n",
    "import numpy as np\n",
    "from lib.geometry import edgeLength"
   ]
  },
  {
   "cell_type": "code",
   "execution_count": 2,
   "metadata": {},
   "outputs": [],
   "source": [
    "def edgeDistDict(G):\n",
    "  return {(n,m): edgeLength(G,n,m) for (n,m) in G.edges()}"
   ]
  },
  {
   "cell_type": "code",
   "execution_count": 3,
   "metadata": {},
   "outputs": [],
   "source": [
    "def createDistanceGraph(dir, filename):\n",
    "  G = nx.read_gexf(f'{dir}/{filename}.gexf')\n",
    "  edgeDistances = edgeDistDict(G)\n",
    "  nx.set_edge_attributes(G, edgeDistances, name='distance')\n",
    "  nx.write_gexf(G, f'{dir}/{filename}_d.gexf')\n"
   ]
  },
  {
   "cell_type": "code",
   "execution_count": 4,
   "metadata": {},
   "outputs": [],
   "source": [
    "createDistanceGraph(f'data/kaiser/131/original','xyz')"
   ]
  },
  {
   "cell_type": "code",
   "execution_count": 5,
   "metadata": {},
   "outputs": [],
   "source": [
    "createDistanceGraph(f'data/white/N2U/original','xyz')"
   ]
  },
  {
   "cell_type": "code",
   "execution_count": 6,
   "metadata": {},
   "outputs": [],
   "source": [
    "for i in range(1,9):\n",
    "  createDistanceGraph(f'data/witvliet/d{i}/original', 'xyz')"
   ]
  },
  {
   "cell_type": "markdown",
   "metadata": {},
   "source": [
    "### This should be done after overlap.ipynb"
   ]
  },
  {
   "cell_type": "code",
   "execution_count": 7,
   "metadata": {},
   "outputs": [],
   "source": [
    "# %store -r G_overlap_W7_W8\n",
    "# %store -r G_overlap_W7_White\n",
    "# %store -r G_overlap_W8_White\n",
    "# %store -r G_overlap_W7_W8_White\n",
    "# %store -r G_unique_W7\n",
    "# %store -r G_unique_W8\n",
    "# %store -r G_unique_White"
   ]
  },
  {
   "cell_type": "code",
   "execution_count": 8,
   "metadata": {},
   "outputs": [],
   "source": [
    "# def addEdgeDistances(G):\n",
    "#   edgeDistances = edgeDistDict(G)\n",
    "#   nx.set_edge_attributes(G, edgeDistances, name='distance')\n",
    "#   return G\n",
    "\n",
    "# G_overlap_W7_W8 = addEdgeDistances(G_overlap_W7_W8)\n",
    "# G_overlap_W7_White = addEdgeDistances(G_overlap_W7_White)\n",
    "# G_overlap_W8_White = addEdgeDistances(G_overlap_W8_White)\n",
    "# G_overlap_W7_W8 = addEdgeDistances(G_overlap_W7_W8_White)\n",
    "# G_unique_W7 = addEdgeDistances(G_unique_W7)\n",
    "# G_unique_W8 = addEdgeDistances(G_unique_W8)\n",
    "# G_unique_White = addEdgeDistances(G_unique_White)\n",
    "\n",
    "# %store G_overlap_W7_W8\n",
    "# %store G_overlap_W7_White\n",
    "# %store G_overlap_W8_White\n",
    "# %store G_overlap_W7_W8_White\n",
    "# %store G_unique_W7\n",
    "# %store G_unique_W8\n",
    "# %store G_unique_White"
   ]
  },
  {
   "cell_type": "code",
   "execution_count": null,
   "metadata": {},
   "outputs": [],
   "source": []
  }
 ],
 "metadata": {
  "kernelspec": {
   "display_name": "Python 3",
   "language": "python",
   "name": "python3"
  },
  "language_info": {
   "codemirror_mode": {
    "name": "ipython",
    "version": 3
   },
   "file_extension": ".py",
   "mimetype": "text/x-python",
   "name": "python",
   "nbconvert_exporter": "python",
   "pygments_lexer": "ipython3",
   "version": "3.11.2 (v3.11.2:878ead1ac1, Feb  7 2023, 10:02:41) [Clang 13.0.0 (clang-1300.0.29.30)]"
  },
  "orig_nbformat": 4,
  "vscode": {
   "interpreter": {
    "hash": "aee8b7b246df8f9039afb4144a1f6fd8d2ca17a180786b69acc140d282b71a49"
   }
  }
 },
 "nbformat": 4,
 "nbformat_minor": 2
}
