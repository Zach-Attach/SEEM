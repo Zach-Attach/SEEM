{
 "cells": [
  {
   "cell_type": "markdown",
   "metadata": {},
   "source": [
    "Import Libraries"
   ]
  },
  {
   "cell_type": "code",
   "execution_count": 1,
   "metadata": {},
   "outputs": [],
   "source": [
    "import networkx as nx\n",
    "import csv\n",
    "from itertools import zip_longest\n",
    "from lib.xyz import NEURON_POSITIONS"
   ]
  },
  {
   "cell_type": "markdown",
   "metadata": {},
   "source": [
    "convert two csvs (labels, and adjacency matrix) into a dictionary containing all outgoing connections each node has\n",
    "- ex: `{label:[1, 27, 105, ...], ...}`"
   ]
  },
  {
   "cell_type": "code",
   "execution_count": 2,
   "metadata": {},
   "outputs": [],
   "source": [
    "def csvsToDict(labelsLoc, connectionsLoc, type='Matrix', delimit='\\t'):\n",
    "  output = {}\n",
    "  # open file locations\n",
    "  with open(labelsLoc) as keys, open(connectionsLoc) as vals:\n",
    "    # create csv readers to read files\n",
    "    reader_keys, reader_vals = csv.reader(keys), csv.reader(vals, delimiter=delimit)\n",
    "    # loop over file row by row\n",
    "    if (type == 'Matrix'):\n",
    "      for [key], val in zip_longest(reader_keys, reader_vals):\n",
    "        # get the list of all nodes which receive incoming edges from the labeled node\n",
    "        output[key] = [i for i, v in enumerate(val) if int(v) == 1]\n",
    "    elif (type == 'List'):\n",
    "      for [k] in reader_keys:\n",
    "        output[k] = []\n",
    "      for v in reader_vals:\n",
    "        node1, node2, type, synapses = v\n",
    "        if node1 in output and node2 in output:\n",
    "          output[node1].append((node2, type, synapses))\n",
    "    return output"
   ]
  },
  {
   "cell_type": "markdown",
   "metadata": {},
   "source": [
    "Returns a DiGraph where each node is labeled, connected, and has an x, y, and z coordinate"
   ]
  },
  {
   "cell_type": "code",
   "execution_count": 4,
   "metadata": {},
   "outputs": [],
   "source": [
    "def createGraph(adjDict, type='Matrix'):\n",
    "  G = nx.DiGraph()\n",
    "\n",
    "  # create nodes\n",
    "  # get the labels (k) and the spatial positions (x and y)  \n",
    "  for k in adjDict.keys():\n",
    "    x,y,z = NEURON_POSITIONS[k]\n",
    "    G.add_node(k,x=x,y=y,z=z)\n",
    "\n",
    "  # create edges\n",
    "  if (type == 'Matrix'):\n",
    "    for n in G.nodes():\n",
    "      for i in adjDict[n]:\n",
    "        m = list(G.nodes())[i]\n",
    "        G.add_edge(n,m)\n",
    "  elif (type == 'List'):\n",
    "     for n in G.nodes():\n",
    "      for (m, connectionType, synapseCount) in adjDict[n]:\n",
    "        G.add_edge(n,m, type=connectionType, synapses=synapseCount)  \n",
    "\n",
    "  return G"
   ]
  },
  {
   "cell_type": "markdown",
   "metadata": {},
   "source": [
    "Creates a gexf file given csvs for the labels, adjacency Matrix, and spatial (2D) positions"
   ]
  },
  {
   "cell_type": "code",
   "execution_count": 5,
   "metadata": {},
   "outputs": [],
   "source": [
    "def convert(folder_outer, connectionsType='Matrix'): #file_positions=None,\n",
    "  input_labels = f'data/{folder_outer}/source/celegans131labels.csv' # location of file containing labels of each neuron\n",
    "  input_adjMatrix = f'data/{folder_outer}/source/connections.csv' # location of file containing adjacency matrix\n",
    "\n",
    "  output = f'data/{folder_outer}/original/xyz.gexf' # output file location\n",
    "\n",
    "  delimiter = connectionsType == 'Matrix' ? ',' : '\\t'\n",
    "  adjDict = csvsToDict(input_labels, input_adjMatrix, connectionsType, delimit=delimiter) # create adjacency dictionary\n",
    "\n",
    "  G = createGraph(adjDict, connectionsType) # create graph\n",
    "\n",
    "  print(len(G.edges()))\n",
    "\n",
    "  nx.write_gexf(G, output) # save graph as gexf file\n",
    "  return G"
   ]
  },
  {
   "cell_type": "markdown",
   "metadata": {},
   "source": [
    "Kaiser 131"
   ]
  },
  {
   "cell_type": "code",
   "execution_count": 6,
   "metadata": {},
   "outputs": [
    {
     "name": "stdout",
     "output_type": "stream",
     "text": [
      "764\n"
     ]
    },
    {
     "data": {
      "text/plain": [
       "<networkx.classes.digraph.DiGraph at 0x10747e550>"
      ]
     },
     "execution_count": 6,
     "metadata": {},
     "output_type": "execute_result"
    }
   ],
   "source": [
    "convert('Kaiser/131', 'Matrix')"
   ]
  },
  {
   "cell_type": "markdown",
   "metadata": {},
   "source": [
    "Witvliet Datasets"
   ]
  },
  {
   "cell_type": "code",
   "execution_count": 7,
   "metadata": {},
   "outputs": [
    {
     "name": "stdout",
     "output_type": "stream",
     "text": [
      "487\n",
      "613\n",
      "625\n",
      "736\n",
      "952\n",
      "887\n",
      "1187\n",
      "1202\n"
     ]
    }
   ],
   "source": [
    "for i in range(1,9):\n",
    "  convert(f'Witvliet/d{i}', 'List')"
   ]
  },
  {
   "cell_type": "markdown",
   "metadata": {},
   "source": [
    "White et al (1986) N2U"
   ]
  },
  {
   "cell_type": "code",
   "execution_count": 8,
   "metadata": {},
   "outputs": [
    {
     "name": "stdout",
     "output_type": "stream",
     "text": [
      "873\n",
      "Stored 'G_White' (DiGraph)\n"
     ]
    }
   ],
   "source": [
    "G_White = convert('white/N2U'r, 'List')"
   ]
  }
 ],
 "metadata": {
  "kernelspec": {
   "display_name": "Python 3",
   "language": "python",
   "name": "python3"
  },
  "language_info": {
   "codemirror_mode": {
    "name": "ipython",
    "version": 3
   },
   "file_extension": ".py",
   "mimetype": "text/x-python",
   "name": "python",
   "nbconvert_exporter": "python",
   "pygments_lexer": "ipython3",
   "version": "3.9.6 (default, Oct 18 2022, 12:41:40) \n[Clang 14.0.0 (clang-1400.0.29.202)]"
  },
  "orig_nbformat": 4,
  "vscode": {
   "interpreter": {
    "hash": "31f2aee4e71d21fbe5cf8b01ff0e069b9275f58929596ceb00d14d90e3e16cd6"
   }
  }
 },
 "nbformat": 4,
 "nbformat_minor": 2
}
